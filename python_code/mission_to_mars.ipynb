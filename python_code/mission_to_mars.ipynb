{
 "cells": [
  {
   "cell_type": "code",
   "execution_count": 78,
   "metadata": {},
   "outputs": [
    {
     "name": "stdout",
     "output_type": "stream",
     "text": [
      "Collecting twitterscraper\n",
      "  Downloading https://files.pythonhosted.org/packages/7f/0f/7cf31233d4f5616c971f6b1ae22dd73fe9a69430877f5c37a0e7b508a311/twitterscraper-1.4.0.tar.gz\n",
      "Collecting coala-utils~=0.5.0 (from twitterscraper)\n",
      "  Downloading https://files.pythonhosted.org/packages/54/00/74ec750cfc4e830f9d1cfdd4d559f3d2d4ba1b834b78d5266446db3fd1d6/coala_utils-0.5.1-py3-none-any.whl\n",
      "Requirement already satisfied: bs4 in c:\\users\\clayt\\anaconda3\\lib\\site-packages (from twitterscraper) (0.0.1)\n",
      "Requirement already satisfied: lxml in c:\\users\\clayt\\anaconda3\\lib\\site-packages (from twitterscraper) (4.4.1)\n",
      "Requirement already satisfied: requests in c:\\users\\clayt\\anaconda3\\lib\\site-packages (from twitterscraper) (2.22.0)\n",
      "Collecting billiard (from twitterscraper)\n",
      "  Downloading https://files.pythonhosted.org/packages/e8/5e/7591866ff45b370354bd20291cb6f87ddb2eef1f1c88c890a38412037e11/billiard-3.6.3.0-py3-none-any.whl (89kB)\n",
      "Requirement already satisfied: beautifulsoup4 in c:\\users\\clayt\\anaconda3\\lib\\site-packages (from bs4->twitterscraper) (4.8.0)\n",
      "Requirement already satisfied: urllib3!=1.25.0,!=1.25.1,<1.26,>=1.21.1 in c:\\users\\clayt\\anaconda3\\lib\\site-packages (from requests->twitterscraper) (1.24.2)\n",
      "Requirement already satisfied: certifi>=2017.4.17 in c:\\users\\clayt\\anaconda3\\lib\\site-packages (from requests->twitterscraper) (2019.9.11)\n",
      "Requirement already satisfied: chardet<3.1.0,>=3.0.2 in c:\\users\\clayt\\anaconda3\\lib\\site-packages (from requests->twitterscraper) (3.0.4)\n",
      "Requirement already satisfied: idna<2.9,>=2.5 in c:\\users\\clayt\\anaconda3\\lib\\site-packages (from requests->twitterscraper) (2.8)\n",
      "Requirement already satisfied: soupsieve>=1.2 in c:\\users\\clayt\\anaconda3\\lib\\site-packages (from beautifulsoup4->bs4->twitterscraper) (1.9.3)\n",
      "Building wheels for collected packages: twitterscraper\n",
      "  Building wheel for twitterscraper (setup.py): started\n",
      "  Building wheel for twitterscraper (setup.py): finished with status 'done'\n",
      "  Created wheel for twitterscraper: filename=twitterscraper-1.4.0-cp37-none-any.whl size=11351 sha256=f585e32f1e2933c99f1c1de0270ffaf12a7a58b25f55445066a27238e6dac229\n",
      "  Stored in directory: C:\\Users\\clayt\\AppData\\Local\\pip\\Cache\\wheels\\c2\\9c\\8b\\7393e7bdc8abe6ce0d46c2ffae2035a1a2080a97ff0ddbdde6\n",
      "Successfully built twitterscraper\n",
      "Installing collected packages: coala-utils, billiard, twitterscraper\n",
      "Successfully installed billiard-3.6.3.0 coala-utils-0.5.1 twitterscraper-1.4.0\n"
     ]
    }
   ],
   "source": [
    "!pip install twitterscraper\n",
    "\n"
   ]
  },
  {
   "cell_type": "code",
   "execution_count": 86,
   "metadata": {},
   "outputs": [],
   "source": [
    "# Dependencies\n",
    "import twitterscraper\n",
    "import pandas as pd\n",
    "import requests as req\n",
    "import time\n",
    "from datetime import date\n",
    "import datetime as dt\n",
    "from bs4 import BeautifulSoup as bs\n",
    "from splinter import Browser\n",
    "from selenium import webdriver"
   ]
  },
  {
   "cell_type": "code",
   "execution_count": 68,
   "metadata": {},
   "outputs": [
    {
     "name": "stderr",
     "output_type": "stream",
     "text": [
      "which: no chromedriver in (/c/Users/clayt/AppData/Roaming/Python/Python37/site-packages/pywin32_system32:/c/Users/clayt/AppData/Roaming/Python/Python37/site-packages/pywin32_system32:/c/Users/clayt/AppData/Roaming/Python/Python37/site-packages/pywin32_system32:/c/Users/clayt/bin:/mingw64/bin:/usr/local/bin:/usr/bin:/usr/bin:/mingw64/bin:/usr/bin:/c/Users/clayt/bin:/c/windows/system32:/c/windows:/c/windows/System32/Wbem:/c/windows/System32/WindowsPowerShell/v1.0:/c/windows/System32/OpenSSH:/c/Program Files (x86)/NVIDIA Corporation/PhysX/Common:/c/Program Files/NVIDIA Corporation/NVIDIA NvDLISR:/cmd:/c/Users/clayt/Anaconda3:/c/Users/clayt/Anaconda3/Library/mingw-w64/bin:/c/Users/clayt/Anaconda3/Library/usr/bin:/c/Users/clayt/Anaconda3/Library/bin:/c/Users/clayt/Anaconda3/Scripts:/c/Users/clayt/AppData/Local/Microsoft/WindowsApps:/c/Users/clayt/AppData/Local/Programs/Microsoft VS Code/bin:/c/Users/clayt/AppData/Local/atom/bin:/c/Users/clayt/AppData/Local/GitHubDesktop/bin:/usr/bin/vendor_perl:/usr/bin/core_perl)\n"
     ]
    }
   ],
   "source": [
    "#https://splinter.readthedocs.io/en/latest/drivers/chrome.html\n",
    "!which chromedriver"
   ]
  },
  {
   "cell_type": "code",
   "execution_count": 71,
   "metadata": {},
   "outputs": [],
   "source": [
    "\n",
    "executable_path = {'executable_path': 'chromedriver'}\n",
    "browser = Browser('chrome', **executable_path, headless=False)"
   ]
  },
  {
   "cell_type": "code",
   "execution_count": 72,
   "metadata": {},
   "outputs": [
    {
     "name": "stdout",
     "output_type": "stream",
     "text": [
      "How NASA's Perseverance Mars Team Adjusted to Work in the Time of Coronavirus \n",
      "Like much of the rest of the world, the Mars rover team is pushing forward with its mission-critical work while putting the health and safety of their colleagues and community first.\n"
     ]
    }
   ],
   "source": [
    "#URL of page to be scraped\n",
    "news_url = \"https://mars.nasa.gov/news/\"\n",
    "browser.visit(news_url)\n",
    "html = browser.html\n",
    "\n",
    "# Parse HTML with Beautiful Soup\n",
    "soup = bs(html, \"html.parser\")\n",
    "\n",
    "# Extract article title and paragraph text\n",
    "article = soup.find(\"div\", class_='list_text')\n",
    "news_title = article.find(\"div\", class_=\"content_title\").text\n",
    "news_p = article.find(\"div\", class_ =\"article_teaser_body\").text\n",
    "print(news_title)\n",
    "print(news_p)"
   ]
  },
  {
   "cell_type": "code",
   "execution_count": 73,
   "metadata": {},
   "outputs": [
    {
     "name": "stdout",
     "output_type": "stream",
     "text": [
      "https://www.jpl.nasa.gov/spaceimages/images/largesize/PIA17462_hires.jpg\n"
     ]
    }
   ],
   "source": [
    "# Visit url for JPL Featured Space Image\n",
    "image_url = \"https://www.jpl.nasa.gov/spaceimages/?search=&category=Mars\"\n",
    "browser.visit(image_url)\n",
    "\n",
    "# Go to 'FULL IMAGE'\n",
    "browser.click_link_by_partial_text('FULL IMAGE')\n",
    "#browser.links.find_by_partial_text('FULL IMAGE')\n",
    "time.sleep(5)\n",
    "\n",
    "# Go to 'more info'\n",
    "browser.click_link_by_partial_text('more info')\n",
    "#browser.links.find_by_partial_text('more info')\n",
    "\n",
    "# Parse HTML with Beautiful Soup\n",
    "html = browser.html\n",
    "image_soup = bs(html, 'html.parser')\n",
    "\n",
    "# Scrape the URL\n",
    "feat_img_url = image_soup.find('figure', class_='lede').a['href']\n",
    "featured_image_url = f'https://www.jpl.nasa.gov{feat_img_url}'\n",
    "print(featured_image_url)\n"
   ]
  },
  {
   "cell_type": "code",
   "execution_count": 177,
   "metadata": {},
   "outputs": [],
   "source": [
    "from twitterscraper import query_tweets\n",
    "from twitterscraper import query_tweets_from_user as qtfu\n"
   ]
  },
  {
   "cell_type": "code",
   "execution_count": 186,
   "metadata": {
    "scrolled": false
   },
   "outputs": [
    {
     "name": "stderr",
     "output_type": "stream",
     "text": [
      "INFO: Scraping tweets from https://twitter.com/MarsWxReport\n",
      "INFO: Using proxy 92.52.186.123:32329\n",
      "INFO: Got 19 tweets from username MarsWxReport\n"
     ]
    }
   ],
   "source": [
    "#end_date=dt.datetime.today()\n",
    "#begin_date=end_date - dt.timedelta(days=1)\n",
    "#user=\"MarsWxReport\"\n",
    "#lang=\"english\"\n",
    "\n",
    "#tweets=query_tweets(\"MarsWxReport\")\n",
    "tweets = qtfu(user='MarsWxReport', limit=10)\n",
    "tweets_df=pd.DataFrame(t.__dict__ for t in tweets)\n",
    "\n",
    "\n"
   ]
  },
  {
   "cell_type": "code",
   "execution_count": 187,
   "metadata": {
    "scrolled": true
   },
   "outputs": [
    {
     "data": {
      "text/html": [
       "<div>\n",
       "<style scoped>\n",
       "    .dataframe tbody tr th:only-of-type {\n",
       "        vertical-align: middle;\n",
       "    }\n",
       "\n",
       "    .dataframe tbody tr th {\n",
       "        vertical-align: top;\n",
       "    }\n",
       "\n",
       "    .dataframe thead th {\n",
       "        text-align: right;\n",
       "    }\n",
       "</style>\n",
       "<table border=\"1\" class=\"dataframe\">\n",
       "  <thead>\n",
       "    <tr style=\"text-align: right;\">\n",
       "      <th></th>\n",
       "      <th>screen_name</th>\n",
       "      <th>username</th>\n",
       "      <th>user_id</th>\n",
       "      <th>tweet_id</th>\n",
       "      <th>tweet_url</th>\n",
       "      <th>timestamp</th>\n",
       "      <th>timestamp_epochs</th>\n",
       "      <th>text</th>\n",
       "      <th>text_html</th>\n",
       "      <th>links</th>\n",
       "      <th>...</th>\n",
       "      <th>has_media</th>\n",
       "      <th>img_urls</th>\n",
       "      <th>video_url</th>\n",
       "      <th>likes</th>\n",
       "      <th>retweets</th>\n",
       "      <th>replies</th>\n",
       "      <th>is_replied</th>\n",
       "      <th>is_reply_to</th>\n",
       "      <th>parent_tweet_id</th>\n",
       "      <th>reply_to_users</th>\n",
       "    </tr>\n",
       "  </thead>\n",
       "  <tbody>\n",
       "    <tr>\n",
       "      <td>0</td>\n",
       "      <td>MarsWxReport</td>\n",
       "      <td>Mars Weather</td>\n",
       "      <td>786939553</td>\n",
       "      <td>1253909405051093003</td>\n",
       "      <td>/MarsWxReport/status/1253909405051093003</td>\n",
       "      <td>2020-04-25 04:51:13</td>\n",
       "      <td>1587790273</td>\n",
       "      <td>InSight sol 501 (2020-04-24) low -93.5ºC (-136...</td>\n",
       "      <td>&lt;p class=\"TweetTextSize TweetTextSize--normal ...</td>\n",
       "      <td>[]</td>\n",
       "      <td>...</td>\n",
       "      <td>True</td>\n",
       "      <td>[https://pbs.twimg.com/media/EWbH9PCXsAE9hwy.jpg]</td>\n",
       "      <td></td>\n",
       "      <td>5</td>\n",
       "      <td>0</td>\n",
       "      <td>0</td>\n",
       "      <td>False</td>\n",
       "      <td>False</td>\n",
       "      <td></td>\n",
       "      <td>[]</td>\n",
       "    </tr>\n",
       "    <tr>\n",
       "      <td>1</td>\n",
       "      <td>MarsWxReport</td>\n",
       "      <td>Mars Weather</td>\n",
       "      <td>786939553</td>\n",
       "      <td>1253728218353410048</td>\n",
       "      <td>/MarsWxReport/status/1253728218353410048</td>\n",
       "      <td>2020-04-24 16:51:15</td>\n",
       "      <td>1587747075</td>\n",
       "      <td>InSight sol 500 (2020-04-22) low -93.8ºC (-136...</td>\n",
       "      <td>&lt;p class=\"TweetTextSize TweetTextSize--normal ...</td>\n",
       "      <td>[]</td>\n",
       "      <td>...</td>\n",
       "      <td>True</td>\n",
       "      <td>[https://pbs.twimg.com/media/EWYjKxDXgAETDtC.jpg]</td>\n",
       "      <td></td>\n",
       "      <td>19</td>\n",
       "      <td>8</td>\n",
       "      <td>0</td>\n",
       "      <td>False</td>\n",
       "      <td>False</td>\n",
       "      <td></td>\n",
       "      <td>[]</td>\n",
       "    </tr>\n",
       "    <tr>\n",
       "      <td>2</td>\n",
       "      <td>MarsWxReport</td>\n",
       "      <td>Mars Weather</td>\n",
       "      <td>786939553</td>\n",
       "      <td>1253184636106223616</td>\n",
       "      <td>/MarsWxReport/status/1253184636106223616</td>\n",
       "      <td>2020-04-23 04:51:14</td>\n",
       "      <td>1587617474</td>\n",
       "      <td>InSight sol 499 (2020-04-22) low -94.4ºC (-137...</td>\n",
       "      <td>&lt;p class=\"TweetTextSize TweetTextSize--normal ...</td>\n",
       "      <td>[]</td>\n",
       "      <td>...</td>\n",
       "      <td>True</td>\n",
       "      <td>[https://pbs.twimg.com/media/EWQ0yG5WoAAD1oG.jpg]</td>\n",
       "      <td></td>\n",
       "      <td>19</td>\n",
       "      <td>4</td>\n",
       "      <td>1</td>\n",
       "      <td>True</td>\n",
       "      <td>False</td>\n",
       "      <td></td>\n",
       "      <td>[]</td>\n",
       "    </tr>\n",
       "    <tr>\n",
       "      <td>3</td>\n",
       "      <td>MarsWxReport</td>\n",
       "      <td>Mars Weather</td>\n",
       "      <td>786939553</td>\n",
       "      <td>1252822244914425858</td>\n",
       "      <td>/MarsWxReport/status/1252822244914425858</td>\n",
       "      <td>2020-04-22 04:51:14</td>\n",
       "      <td>1587531074</td>\n",
       "      <td>InSight sol 498 (2020-04-21) low -94.3ºC (-137...</td>\n",
       "      <td>&lt;p class=\"TweetTextSize TweetTextSize--normal ...</td>\n",
       "      <td>[]</td>\n",
       "      <td>...</td>\n",
       "      <td>True</td>\n",
       "      <td>[https://pbs.twimg.com/media/EWLrMK_VAAEldWq.jpg]</td>\n",
       "      <td></td>\n",
       "      <td>27</td>\n",
       "      <td>5</td>\n",
       "      <td>0</td>\n",
       "      <td>False</td>\n",
       "      <td>False</td>\n",
       "      <td></td>\n",
       "      <td>[]</td>\n",
       "    </tr>\n",
       "    <tr>\n",
       "      <td>4</td>\n",
       "      <td>MarsWxReport</td>\n",
       "      <td>Mars Weather</td>\n",
       "      <td>786939553</td>\n",
       "      <td>1252399466918801409</td>\n",
       "      <td>/MarsWxReport/status/1252399466918801409</td>\n",
       "      <td>2020-04-21 00:51:16</td>\n",
       "      <td>1587430276</td>\n",
       "      <td>InSight sol 497 (2020-04-20) low -94.3ºC (-137...</td>\n",
       "      <td>&lt;p class=\"TweetTextSize TweetTextSize--normal ...</td>\n",
       "      <td>[]</td>\n",
       "      <td>...</td>\n",
       "      <td>True</td>\n",
       "      <td>[https://pbs.twimg.com/media/EWFqrQcU8AEAhYZ.jpg]</td>\n",
       "      <td></td>\n",
       "      <td>13</td>\n",
       "      <td>4</td>\n",
       "      <td>0</td>\n",
       "      <td>False</td>\n",
       "      <td>False</td>\n",
       "      <td></td>\n",
       "      <td>[]</td>\n",
       "    </tr>\n",
       "  </tbody>\n",
       "</table>\n",
       "<p>5 rows × 21 columns</p>\n",
       "</div>"
      ],
      "text/plain": [
       "    screen_name      username    user_id             tweet_id  \\\n",
       "0  MarsWxReport  Mars Weather  786939553  1253909405051093003   \n",
       "1  MarsWxReport  Mars Weather  786939553  1253728218353410048   \n",
       "2  MarsWxReport  Mars Weather  786939553  1253184636106223616   \n",
       "3  MarsWxReport  Mars Weather  786939553  1252822244914425858   \n",
       "4  MarsWxReport  Mars Weather  786939553  1252399466918801409   \n",
       "\n",
       "                                  tweet_url           timestamp  \\\n",
       "0  /MarsWxReport/status/1253909405051093003 2020-04-25 04:51:13   \n",
       "1  /MarsWxReport/status/1253728218353410048 2020-04-24 16:51:15   \n",
       "2  /MarsWxReport/status/1253184636106223616 2020-04-23 04:51:14   \n",
       "3  /MarsWxReport/status/1252822244914425858 2020-04-22 04:51:14   \n",
       "4  /MarsWxReport/status/1252399466918801409 2020-04-21 00:51:16   \n",
       "\n",
       "   timestamp_epochs                                               text  \\\n",
       "0        1587790273  InSight sol 501 (2020-04-24) low -93.5ºC (-136...   \n",
       "1        1587747075  InSight sol 500 (2020-04-22) low -93.8ºC (-136...   \n",
       "2        1587617474  InSight sol 499 (2020-04-22) low -94.4ºC (-137...   \n",
       "3        1587531074  InSight sol 498 (2020-04-21) low -94.3ºC (-137...   \n",
       "4        1587430276  InSight sol 497 (2020-04-20) low -94.3ºC (-137...   \n",
       "\n",
       "                                           text_html links  ... has_media  \\\n",
       "0  <p class=\"TweetTextSize TweetTextSize--normal ...    []  ...      True   \n",
       "1  <p class=\"TweetTextSize TweetTextSize--normal ...    []  ...      True   \n",
       "2  <p class=\"TweetTextSize TweetTextSize--normal ...    []  ...      True   \n",
       "3  <p class=\"TweetTextSize TweetTextSize--normal ...    []  ...      True   \n",
       "4  <p class=\"TweetTextSize TweetTextSize--normal ...    []  ...      True   \n",
       "\n",
       "                                            img_urls video_url likes  \\\n",
       "0  [https://pbs.twimg.com/media/EWbH9PCXsAE9hwy.jpg]               5   \n",
       "1  [https://pbs.twimg.com/media/EWYjKxDXgAETDtC.jpg]              19   \n",
       "2  [https://pbs.twimg.com/media/EWQ0yG5WoAAD1oG.jpg]              19   \n",
       "3  [https://pbs.twimg.com/media/EWLrMK_VAAEldWq.jpg]              27   \n",
       "4  [https://pbs.twimg.com/media/EWFqrQcU8AEAhYZ.jpg]              13   \n",
       "\n",
       "   retweets  replies  is_replied  is_reply_to  parent_tweet_id reply_to_users  \n",
       "0         0        0       False        False                              []  \n",
       "1         8        0       False        False                              []  \n",
       "2         4        1        True        False                              []  \n",
       "3         5        0       False        False                              []  \n",
       "4         4        0       False        False                              []  \n",
       "\n",
       "[5 rows x 21 columns]"
      ]
     },
     "execution_count": 187,
     "metadata": {},
     "output_type": "execute_result"
    }
   ],
   "source": [
    "tweets_df.head()\n"
   ]
  },
  {
   "cell_type": "code",
   "execution_count": 184,
   "metadata": {},
   "outputs": [],
   "source": [
    "mars_weather=tweets_df.loc[0,'text']"
   ]
  },
  {
   "cell_type": "code",
   "execution_count": 185,
   "metadata": {},
   "outputs": [
    {
     "data": {
      "text/plain": [
       "'InSight sol 501 (2020-04-24) low -93.5ºC (-136.2ºF) high -4.3ºC (24.3ºF)\\nwinds from the SW at 5.0 m/s (11.3 mph) gusting to 15.8 m/s (35.3 mph)\\npressure at 6.70 hPapic.twitter.com/Xdbw8T0T0E'"
      ]
     },
     "execution_count": 185,
     "metadata": {},
     "output_type": "execute_result"
    }
   ],
   "source": [
    "mars_weather\n"
   ]
  },
  {
   "cell_type": "code",
   "execution_count": 161,
   "metadata": {},
   "outputs": [],
   "source": [
    "# Visit Twitter url for latest Mars Weather\n",
    "tweet_url = \"https://twitter.com/marswxreport?lang=en\"\n",
    "browser.visit(tweet_url)\n",
    "html = browser.html\n",
    "\n",
    "# Parse HTML with Beautiful Soup\n",
    "soup = bs(html, 'html.parser')\n",
    "\n",
    "# Extract latest tweet\n",
    "tweet_container = soup.find_all('p', class_=\"TweetTextSize js-tweet-text tweet-text\")\n",
    "\n",
    "# Loop through latest tweets and find the tweet that has weather information\n",
    "for tweet in tweet_container: \n",
    "    mars_weather = tweet.find('p').text\n",
    "    if 'sol' and 'pressure' in mars_weather:\n",
    "        print(mars_weather)\n",
    "        break\n",
    "    else: \n",
    "        print(\"nothing found\")\n",
    "        pass"
   ]
  },
  {
   "cell_type": "code",
   "execution_count": 163,
   "metadata": {},
   "outputs": [
    {
     "data": {
      "text/plain": [
       "[]"
      ]
     },
     "execution_count": 163,
     "metadata": {},
     "output_type": "execute_result"
    }
   ],
   "source": [
    "tweet_container\n"
   ]
  },
  {
   "cell_type": "markdown",
   "metadata": {},
   "source": []
  },
  {
   "cell_type": "code",
   "execution_count": 188,
   "metadata": {},
   "outputs": [
    {
     "data": {
      "text/plain": [
       "<!DOCTYPE html>\n",
       "<html dir=\"ltr\" lang=\"en\" style=\"font-size: 15px;\" xmlns=\"http://www.w3.org/1999/xhtml\"><head><meta charset=\"utf-8\"/>\n",
       "<meta content=\"width=device-width,initial-scale=1,maximum-scale=1,user-scalable=0,viewport-fit=cover\" name=\"viewport\"/>\n",
       "<link href=\"//abs.twimg.com\" rel=\"preconnect\"/>\n",
       "<link href=\"//api.twitter.com\" rel=\"preconnect\"/>\n",
       "<link href=\"//pbs.twimg.com\" rel=\"preconnect\"/>\n",
       "<link href=\"//t.co\" rel=\"preconnect\"/>\n",
       "<link href=\"//video.twimg.com\" rel=\"preconnect\"/>\n",
       "<link href=\"//abs.twimg.com\" rel=\"dns-prefetch\"/>\n",
       "<link href=\"//api.twitter.com\" rel=\"dns-prefetch\"/>\n",
       "<link href=\"//pbs.twimg.com\" rel=\"dns-prefetch\"/>\n",
       "<link href=\"//t.co\" rel=\"dns-prefetch\"/>\n",
       "<link href=\"//video.twimg.com\" rel=\"dns-prefetch\"/>\n",
       "<link as=\"script\" crossorigin=\"anonymous\" href=\"https://abs.twimg.com/responsive-web/web/polyfills.bab5fe74.js\" nonce=\"\" rel=\"preload\"/>\n",
       "<link as=\"script\" crossorigin=\"anonymous\" href=\"https://abs.twimg.com/responsive-web/web/vendors~main.e0482f54.js\" nonce=\"\" rel=\"preload\"/>\n",
       "<link as=\"script\" crossorigin=\"anonymous\" href=\"https://abs.twimg.com/responsive-web/web/i18n-rweb/en.f8607424.js\" nonce=\"\" rel=\"preload\"/>\n",
       "<link as=\"script\" crossorigin=\"anonymous\" href=\"https://abs.twimg.com/responsive-web/web/i18n-horizon/en.fcbbd314.js\" nonce=\"\" rel=\"preload\"/>\n",
       "<link as=\"script\" crossorigin=\"anonymous\" href=\"https://abs.twimg.com/responsive-web/web/main.82ef4e44.js\" nonce=\"\" rel=\"preload\"/>\n",
       "<meta content=\"2231777543\" property=\"fb:app_id\"/>\n",
       "<meta content=\"Twitter\" property=\"og:site_name\"/>\n",
       "<meta content=\"V0yIS0Ec_o3Ii9KThrCoMCkwTYMMJ_JYx_RSaGhFYvw\" name=\"google-site-verification\"/>\n",
       "<link crossorigin=\"use-credentials\" href=\"/manifest.json\" rel=\"manifest\"/>\n",
       "<link href=\"https://twitter.com/marswxreport?lang=en\" hreflang=\"x-default\" rel=\"alternate\"/>\n",
       "<link href=\"https://twitter.com/marswxreport?lang=ar\" hreflang=\"ar\" rel=\"alternate\"/>\n",
       "<link href=\"https://twitter.com/marswxreport?lang=bg\" hreflang=\"bg\" rel=\"alternate\"/>\n",
       "<link href=\"https://twitter.com/marswxreport?lang=bn\" hreflang=\"bn\" rel=\"alternate\"/>\n",
       "<link href=\"https://twitter.com/marswxreport?lang=ca\" hreflang=\"ca\" rel=\"alternate\"/>\n",
       "<link href=\"https://twitter.com/marswxreport?lang=cs\" hreflang=\"cs\" rel=\"alternate\"/>\n",
       "<link href=\"https://twitter.com/marswxreport?lang=da\" hreflang=\"da\" rel=\"alternate\"/>\n",
       "<link href=\"https://twitter.com/marswxreport?lang=de\" hreflang=\"de\" rel=\"alternate\"/>\n",
       "<link href=\"https://twitter.com/marswxreport?lang=el\" hreflang=\"el\" rel=\"alternate\"/>\n",
       "<link href=\"https://twitter.com/marswxreport?lang=en\" hreflang=\"en\" rel=\"alternate\"/>\n",
       "<link href=\"https://twitter.com/marswxreport?lang=en-GB\" hreflang=\"en-GB\" rel=\"alternate\"/>\n",
       "<link href=\"https://twitter.com/marswxreport?lang=es\" hreflang=\"es\" rel=\"alternate\"/>\n",
       "<link href=\"https://twitter.com/marswxreport?lang=eu\" hreflang=\"eu\" rel=\"alternate\"/>\n",
       "<link href=\"https://twitter.com/marswxreport?lang=fa\" hreflang=\"fa\" rel=\"alternate\"/>\n",
       "<link href=\"https://twitter.com/marswxreport?lang=fi\" hreflang=\"fi\" rel=\"alternate\"/>\n",
       "<link href=\"https://twitter.com/marswxreport?lang=tl\" hreflang=\"tl\" rel=\"alternate\"/>\n",
       "<link href=\"https://twitter.com/marswxreport?lang=fr\" hreflang=\"fr\" rel=\"alternate\"/>\n",
       "<link href=\"https://twitter.com/marswxreport?lang=ga\" hreflang=\"ga\" rel=\"alternate\"/>\n",
       "<link href=\"https://twitter.com/marswxreport?lang=gl\" hreflang=\"gl\" rel=\"alternate\"/>\n",
       "<link href=\"https://twitter.com/marswxreport?lang=gu\" hreflang=\"gu\" rel=\"alternate\"/>\n",
       "<link href=\"https://twitter.com/marswxreport?lang=he\" hreflang=\"he\" rel=\"alternate\"/>\n",
       "<link href=\"https://twitter.com/marswxreport?lang=hi\" hreflang=\"hi\" rel=\"alternate\"/>\n",
       "<link href=\"https://twitter.com/marswxreport?lang=hr\" hreflang=\"hr\" rel=\"alternate\"/>\n",
       "<link href=\"https://twitter.com/marswxreport?lang=hu\" hreflang=\"hu\" rel=\"alternate\"/>\n",
       "<link href=\"https://twitter.com/marswxreport?lang=id\" hreflang=\"id\" rel=\"alternate\"/>\n",
       "<link href=\"https://twitter.com/marswxreport?lang=it\" hreflang=\"it\" rel=\"alternate\"/>\n",
       "<link href=\"https://twitter.com/marswxreport?lang=ja\" hreflang=\"ja\" rel=\"alternate\"/>\n",
       "<link href=\"https://twitter.com/marswxreport?lang=kn\" hreflang=\"kn\" rel=\"alternate\"/>\n",
       "<link href=\"https://twitter.com/marswxreport?lang=ko\" hreflang=\"ko\" rel=\"alternate\"/>\n",
       "<link href=\"https://twitter.com/marswxreport?lang=mr\" hreflang=\"mr\" rel=\"alternate\"/>\n",
       "<link href=\"https://twitter.com/marswxreport?lang=ms\" hreflang=\"ms\" rel=\"alternate\"/>\n",
       "<link href=\"https://twitter.com/marswxreport?lang=nb\" hreflang=\"nb\" rel=\"alternate\"/>\n",
       "<link href=\"https://twitter.com/marswxreport?lang=nl\" hreflang=\"nl\" rel=\"alternate\"/>\n",
       "<link href=\"https://twitter.com/marswxreport?lang=pl\" hreflang=\"pl\" rel=\"alternate\"/>\n",
       "<link href=\"https://twitter.com/marswxreport?lang=pt\" hreflang=\"pt\" rel=\"alternate\"/>\n",
       "<link href=\"https://twitter.com/marswxreport?lang=ro\" hreflang=\"ro\" rel=\"alternate\"/>\n",
       "<link href=\"https://twitter.com/marswxreport?lang=ru\" hreflang=\"ru\" rel=\"alternate\"/>\n",
       "<link href=\"https://twitter.com/marswxreport?lang=sk\" hreflang=\"sk\" rel=\"alternate\"/>\n",
       "<link href=\"https://twitter.com/marswxreport?lang=sr\" hreflang=\"sr\" rel=\"alternate\"/>\n",
       "<link href=\"https://twitter.com/marswxreport?lang=sv\" hreflang=\"sv\" rel=\"alternate\"/>\n",
       "<link href=\"https://twitter.com/marswxreport?lang=ta\" hreflang=\"ta\" rel=\"alternate\"/>\n",
       "<link href=\"https://twitter.com/marswxreport?lang=th\" hreflang=\"th\" rel=\"alternate\"/>\n",
       "<link href=\"https://twitter.com/marswxreport?lang=tr\" hreflang=\"tr\" rel=\"alternate\"/>\n",
       "<link href=\"https://twitter.com/marswxreport?lang=uk\" hreflang=\"uk\" rel=\"alternate\"/>\n",
       "<link href=\"https://twitter.com/marswxreport?lang=ur\" hreflang=\"ur\" rel=\"alternate\"/>\n",
       "<link href=\"https://twitter.com/marswxreport?lang=vi\" hreflang=\"vi\" rel=\"alternate\"/>\n",
       "<link href=\"https://twitter.com/marswxreport?lang=zh\" hreflang=\"zh\" rel=\"alternate\"/>\n",
       "<link href=\"https://twitter.com/marswxreport?lang=zh-Hant\" hreflang=\"zh-Hant\" rel=\"alternate\"/>\n",
       "<link color=\"#1da1f2\" href=\"https://abs.twimg.com/responsive-web/web/icon-svg.9e211f64.svg\" rel=\"mask-icon\" sizes=\"any\"/>\n",
       "<link href=\"//abs.twimg.com/favicons/twitter.ico\" rel=\"shortcut icon\" type=\"image/x-icon\"/>\n",
       "<link href=\"https://abs.twimg.com/responsive-web/web/icon-ios.8ea219d4.png\" rel=\"apple-touch-icon\" sizes=\"192x192\"/>\n",
       "<meta content=\"yes\" name=\"mobile-web-app-capable\"/>\n",
       "<meta content=\"Twitter\" name=\"apple-mobile-web-app-title\"/>\n",
       "<meta content=\"white\" name=\"apple-mobile-web-app-status-bar-style\"/>\n",
       "<meta content=\"#FFFFFF\" name=\"theme-color\"/>\n",
       "<meta content=\"Ap6SMBNB0lQoXpXl4I9vyTJqJ7Y0X9tPd6Q6rN697iHdubQQxBcWHy21N3N7uEz7Ba5UKMbN+eLvDczBSbi27AsAAABfeyJvcmlnaW4iOiJodHRwczovL3R3aXR0ZXIuY29tOjQ0MyIsImZlYXR1cmUiOiJCYWRnaW5nIiwiZXhwaXJ5IjoxNTY0NTgyNzY2LCJpc1N1YmRvbWFpbiI6dHJ1ZX0=\" http-equiv=\"origin-trial\"/>\n",
       "<meta content=\"Apir4chqTX+4eFxKD+ErQlKRB/VtZ/dvnLfd9Y9Nenl5r1xJcf81alryTHYQiuUlz9Q49MqGXqyaiSmqWzHUqQwAAABneyJvcmlnaW4iOiJodHRwczovL3R3aXR0ZXIuY29tOjQ0MyIsImZlYXR1cmUiOiJDb250YWN0c01hbmFnZXIiLCJleHBpcnkiOjE1NzUwMzUyODMsImlzU3ViZG9tYWluIjp0cnVlfQ==\" http-equiv=\"origin-trial\"/>\n",
       "<meta content=\"AleGS26SZL7UA8Fe1DbvXzoay74bPTvrfKKGimIu1RI8vA+RtXOSVlizUkz2zU/fQoFoOTgCiCciP6pM5teaeQgAAABjeyJvcmlnaW4iOiJodHRwczovL3R3aXR0ZXIuY29tOjQ0MyIsImZlYXR1cmUiOiJTbXNSZWNlaXZlciIsImV4cGlyeSI6MTU3OTAyMDkyMSwiaXNTdWJkb21haW4iOnRydWV9\" http-equiv=\"origin-trial\"/>\n",
       "<style>html,body{height: 100%;}body{-ms-overflow-style:scrollbar;overflow-y:scroll;overscroll-behavior-y:none;}</style>\n",
       "<style id=\"react-native-stylesheet\">[stylesheet-group=\"0\"]{}\n",
       "html{-ms-text-size-adjust:100%;-webkit-text-size-adjust:100%;-webkit-tap-highlight-color:rgba(0,0,0,0);}\n",
       "body{margin:0;}\n",
       "button::-moz-focus-inner,input::-moz-focus-inner{border:0;padding:0;}\n",
       "input::-webkit-inner-spin-button,input::-webkit-outer-spin-button,input::-webkit-search-cancel-button,input::-webkit-search-decoration,input::-webkit-search-results-button,input::-webkit-search-results-decoration{display:none;}\n",
       "[stylesheet-group=\"0.1\"]{}\n",
       ":focus:not([data-focusvisible-polyfill]){outline: none;}\n",
       "[stylesheet-group=\"1\"]{}\n",
       ".css-1dbjc4n{-ms-flex-align:stretch;-ms-flex-direction:column;-ms-flex-negative:0;-ms-flex-preferred-size:auto;-webkit-align-items:stretch;-webkit-box-align:stretch;-webkit-box-direction:normal;-webkit-box-orient:vertical;-webkit-flex-basis:auto;-webkit-flex-direction:column;-webkit-flex-shrink:0;align-items:stretch;border:0 solid black;box-sizing:border-box;display:-webkit-box;display:-moz-box;display:-ms-flexbox;display:-webkit-flex;display:flex;flex-basis:auto;flex-direction:column;flex-shrink:0;margin-bottom:0px;margin-left:0px;margin-right:0px;margin-top:0px;min-height:0px;min-width:0px;padding-bottom:0px;padding-left:0px;padding-right:0px;padding-top:0px;position:relative;z-index:0;}\n",
       ".css-901oao{border:0 solid black;box-sizing:border-box;color:rgba(0,0,0,1.00);display:inline;font:14px system-ui,-apple-system,BlinkMacSystemFont,\"Segoe UI\",Roboto,Ubuntu,\"Helvetica Neue\",sans-serif;margin-bottom:0px;margin-left:0px;margin-right:0px;margin-top:0px;padding-bottom:0px;padding-left:0px;padding-right:0px;padding-top:0px;white-space:pre-wrap;word-wrap:break-word;}\n",
       ".css-16my406{color:inherit;font:inherit;white-space:inherit;}\n",
       "[stylesheet-group=\"2\"]{}\n",
       ".r-13awgt0{-ms-flex-negative:1;-ms-flex-positive:1;-ms-flex-preferred-size:0%;-webkit-box-flex:1;-webkit-flex-basis:0%;-webkit-flex-grow:1;-webkit-flex-shrink:1;flex-basis:0%;flex-grow:1;flex-shrink:1;}\n",
       ".r-4qtqp9{display:inline-block;}\n",
       ".r-ywje51{margin-bottom:auto;margin-left:auto;margin-right:auto;margin-top:auto;}\n",
       ".r-hvic4v{display:none;}\n",
       ".r-1adg3ll{display:block;}\n",
       "[stylesheet-group=\"2.2\"]{}\n",
       ".r-12vffkv&gt;*{pointer-events:auto;}\n",
       ".r-12vffkv{pointer-events:none!important;}\n",
       ".r-14lw9ot{background-color:rgba(255,255,255,1.00);}\n",
       ".r-1p0dtai{bottom:0px;}\n",
       ".r-1d2f490{left:0px;}\n",
       ".r-1xcajam{position:fixed;}\n",
       ".r-zchlnj{right:0px;}\n",
       ".r-ipm5af{top:0px;}\n",
       ".r-yyyyoo{fill:currentcolor;}\n",
       ".r-1xvli5t{height:1.25em;}\n",
       ".r-dnmrzs{max-width:100%;}\n",
       ".r-bnwqim{position:relative;}\n",
       ".r-1plcrui{vertical-align:text-bottom;}\n",
       ".r-lrvibr{-moz-user-select:none;-ms-user-select:none;-webkit-user-select:none;user-select:none;}\n",
       ".r-13gxpu9{color:rgba(29,161,242,1.00);}\n",
       ".r-wy61xf{height:72px;}\n",
       ".r-u8s1d{position:absolute;}\n",
       ".r-1blnp2b{width:72px;}\n",
       ".r-1ykxob0{top:60%;}\n",
       ".r-1b2b6em{line-height:2em;}\n",
       ".r-q4m81j{text-align:center;}</style>\n",
       "<title>Twitter</title><meta content=\"Twitter\" data-rdm=\"\" property=\"og:title\"/><script charset=\"utf-8\" src=\"https://abs.twimg.com/responsive-web/web/shared~bundle.HomeTimeline.99528e74.js\"></script><script charset=\"utf-8\" src=\"https://abs.twimg.com/responsive-web/web/shared~bundle.DirectMessages.6d2afd84.js\"></script><script charset=\"utf-8\" src=\"https://abs.twimg.com/responsive-web/web/shared~bundle.Settings.f01c3064.js\"></script><script charset=\"utf-8\" src=\"https://abs.twimg.com/responsive-web/web/loader.Typeahead.6e2393f4.js\"></script><script charset=\"utf-8\" src=\"https://abs.twimg.com/responsive-web/web/shared~bundle.UserProfile.ac06e7e4.js\"></script><script charset=\"utf-8\" src=\"https://abs.twimg.com/responsive-web/web/bundle.UserProfile.0eaa1184.js\"></script><script charset=\"utf-8\" src=\"https://abs.twimg.com/responsive-web/web/loader.AppModules.6dfb2a44.js\"></script><script charset=\"utf-8\" src=\"https://abs.twimg.com/responsive-web/web/bundle.NetworkInstrument.1b225054.js\"></script></head><body style=\"background-color: rgb(255, 255, 255);\">\n",
       "<noscript>\n",
       "    &lt;form action=\"https://mobile.twitter.com/i/nojs_router?path=%2Fmarswxreport%3Flang%3Den\" method=\"POST\" style=\"background-color: #fff; position: fixed; top: 0; left: 0; right: 0; bottom: 0; z-index: 9999;\"&gt;\n",
       "      &lt;div style=\"font-size: 18px; font-family: Helvetica,sans-serif; line-height: 24px; margin: 10%; width: 80%;\"&gt;\n",
       "        &lt;p&gt;We've detected that JavaScript is disabled in your browser. Would you like to proceed to legacy Twitter?&lt;/p&gt;\n",
       "        &lt;p style=\"margin: 20px 0;\"&gt;\n",
       "          &lt;button type=\"submit\" style=\"background-color: #1da1f2; border-radius: 100px; border: none; box-shadow: none; color: #fff; cursor: pointer; font-size: 14px; font-weight: bold; line-height: 20px; padding: 6px 16px;\"&gt;Yes&lt;/button&gt;\n",
       "        &lt;/p&gt;\n",
       "      &lt;/div&gt;\n",
       "    &lt;/form&gt;\n",
       "  </noscript>\n",
       "<div id=\"react-root\" style=\"height:100%;display:flex;\"><div class=\"css-1dbjc4n r-13awgt0 r-12vffkv\" data-reactroot=\"\"><div class=\"css-1dbjc4n r-13awgt0 r-12vffkv\"><div class=\"css-1dbjc4n r-13qz1uu r-417010\" style=\"min-height: 674px;\"><header class=\"css-1dbjc4n r-1g40b8q\" role=\"banner\"><div class=\"css-1dbjc4n\" style=\"height: calc(53px);\"></div><div class=\"css-1dbjc4n r-14lw9ot r-uvzvve r-rull8r r-qklmqi r-1d2f490 r-1xcajam r-zchlnj r-ipm5af r-1siec45 r-o7ynqc r-axxi2z r-136ojw6\"><div class=\"css-1dbjc4n r-1jgb5lz r-sb58tz r-13qz1uu\"><div class=\"css-1dbjc4n r-14lw9ot r-18u37iz r-1h3ijdo r-1wtj0ep r-utggzx r-rjfia r-136ojw6\"><div class=\"css-1dbjc4n r-18u37iz r-16y2uox r-1h3ijdo r-1ye8kvj r-utggzx r-184en5c\"><div class=\"css-1dbjc4n r-1777fci r-1mf7evn\"><h1 class=\"css-4rbku5 css-1dbjc4n r-1awozwy r-1pz39u2 r-1loqt21 r-6koalj r-16y2uox r-1777fci r-18qmn74\" role=\"heading\"><a aria-haspopup=\"false\" aria-label=\"Twitter\" class=\"css-4rbku5 css-18t94o4 css-1dbjc4n r-1niwhzg r-42olwf r-sdzlij r-1phboty r-rs99b7 r-1loqt21 r-1w2pmg r-1vuscfd r-53xb7h r-mk0yit r-o7ynqc r-6416eg r-lrvibr\" data-focusable=\"true\" href=\"/\" role=\"button\" style=\"margin-left: calc(0px + (-1 * (41px - 1.75rem)) / 2);\"><div class=\"css-901oao r-1awozwy r-13gxpu9 r-6koalj r-18u37iz r-16y2uox r-1qd0xha r-a023e6 r-vw2c0b r-1777fci r-eljoum r-dnmrzs r-bcqeeo r-q4m81j r-qvutc0\" dir=\"auto\"><svg class=\"r-13gxpu9 r-4qtqp9 r-yyyyoo r-16y2uox r-1q142lx r-lwhw9o r-dnmrzs r-bnwqim r-1plcrui r-lrvibr\" viewbox=\"0 0 24 24\" xmlns=\"http://www.w3.org/2000/svg\"><g><path d=\"M23.643 4.937c-.835.37-1.732.62-2.675.733.962-.576 1.7-1.49 2.048-2.578-.9.534-1.897.922-2.958 1.13-.85-.904-2.06-1.47-3.4-1.47-2.572 0-4.658 2.086-4.658 4.66 0 .364.042.718.12 1.06-3.873-.195-7.304-2.05-9.602-4.868-.4.69-.63 1.49-.63 2.342 0 1.616.823 3.043 2.072 3.878-.764-.025-1.482-.234-2.11-.583v.06c0 2.257 1.605 4.14 3.737 4.568-.392.106-.803.162-1.227.162-.3 0-.593-.028-.877-.082.593 1.85 2.313 3.198 4.352 3.234-1.595 1.25-3.604 1.995-5.786 1.995-.376 0-.747-.022-1.112-.065 2.062 1.323 4.51 2.093 7.14 2.093 8.57 0 13.255-7.098 13.255-13.254 0-.2-.005-.402-.014-.602.91-.658 1.7-1.477 2.323-2.41z\"></path></g></svg><span class=\"css-901oao css-16my406 css-bfa6kz r-1qd0xha r-ad9z0x r-bcqeeo r-qvutc0\"></span></div></a></h1></div><div class=\"css-1dbjc4n r-1oszu61 r-18u37iz r-16y2uox r-1wbh5a2 r-zg41ew\"><div class=\"css-1dbjc4n r-1awozwy r-16y2uox r-1pi2tsx r-1777fci r-utggzx r-tvv088\"><div aria-valuemax=\"1\" aria-valuemin=\"0\" class=\"css-1dbjc4n r-1awozwy r-1777fci\" role=\"progressbar\"><div class=\"css-1dbjc4n r-17bb2tj r-1muvv40 r-127358a r-1ldzwu0\" style=\"height: 26px; width: 26px;\"><svg height=\"100%\" viewbox=\"0 0 32 32\" width=\"100%\" xmlns=\"http://www.w3.org/2000/svg\"><circle cx=\"16\" cy=\"16\" fill=\"none\" r=\"14\" stroke-width=\"4\" style=\"stroke: rgb(29, 161, 242); opacity: 0.2;\"></circle><circle cx=\"16\" cy=\"16\" fill=\"none\" r=\"14\" stroke-width=\"4\" style=\"stroke: rgb(29, 161, 242); stroke-dasharray: 80; stroke-dashoffset: 60;\"></circle></svg></div></div></div></div></div><div class=\"css-1dbjc4n r-18u37iz r-16y2uox r-1h3ijdo r-58zi21\"><div class=\"css-1dbjc4n r-1awozwy r-1pz39u2 r-18u37iz r-16y2uox\"><div class=\"css-1dbjc4n r-16y2uox\"><a aria-haspopup=\"false\" class=\"css-4rbku5 css-18t94o4 css-1dbjc4n r-1niwhzg r-p1n3y5 r-sdzlij r-1phboty r-rs99b7 r-1loqt21 r-1w2pmg r-1vsu8ta r-aj3cln r-1fneopy r-o7ynqc r-6416eg r-lrvibr\" data-focusable=\"true\" data-testid=\"login\" href=\"/login\" role=\"button\"><div class=\"css-901oao r-1awozwy r-13gxpu9 r-6koalj r-18u37iz r-16y2uox r-1qd0xha r-a023e6 r-vw2c0b r-1777fci r-eljoum r-dnmrzs r-bcqeeo r-q4m81j r-qvutc0\" dir=\"auto\"><span class=\"css-901oao css-16my406 css-bfa6kz r-1qd0xha r-ad9z0x r-bcqeeo r-qvutc0\"><span class=\"css-901oao css-16my406 r-1qd0xha r-ad9z0x r-bcqeeo r-qvutc0\">Log in</span></span></div></a></div><div class=\"css-1dbjc4n r-16y2uox r-1n0xq6e\"><a aria-haspopup=\"false\" class=\"css-4rbku5 css-18t94o4 css-1dbjc4n r-urgr8i r-42olwf r-sdzlij r-1phboty r-rs99b7 r-1loqt21 r-1w2pmg r-1vsu8ta r-aj3cln r-1fneopy r-o7ynqc r-6416eg r-lrvibr\" data-focusable=\"true\" data-testid=\"signup\" href=\"/i/flow/signup\" role=\"button\"><div class=\"css-901oao r-1awozwy r-jwli3a r-6koalj r-18u37iz r-16y2uox r-1qd0xha r-a023e6 r-vw2c0b r-1777fci r-eljoum r-dnmrzs r-bcqeeo r-q4m81j r-qvutc0\" dir=\"auto\"><span class=\"css-901oao css-16my406 css-bfa6kz r-1qd0xha r-ad9z0x r-bcqeeo r-qvutc0\"><span class=\"css-901oao css-16my406 r-1qd0xha r-ad9z0x r-bcqeeo r-qvutc0\">Sign up</span></span></div></a></div></div><div class=\"css-1dbjc4n r-1777fci r-1hfyk0a\"><div aria-expanded=\"false\" aria-haspopup=\"true\" class=\"css-18t94o4 css-1dbjc4n r-1niwhzg r-42olwf r-sdzlij r-1phboty r-rs99b7 r-1w2pmg r-1vuscfd r-53xb7h r-mk0yit r-o7ynqc r-6416eg r-lrvibr\" data-focusable=\"true\" role=\"button\" style=\"margin-right: calc(5px + (-1 * (41px - 1.5em)) / 2);\" tabindex=\"0\"><div class=\"css-901oao r-1awozwy r-13gxpu9 r-6koalj r-18u37iz r-16y2uox r-1qd0xha r-a023e6 r-vw2c0b r-1777fci r-eljoum r-dnmrzs r-bcqeeo r-q4m81j r-qvutc0\" dir=\"auto\"><svg class=\"r-13gxpu9 r-4qtqp9 r-yyyyoo r-1q142lx r-50lct3 r-dnmrzs r-bnwqim r-1plcrui r-lrvibr\" viewbox=\"0 0 24 24\" xmlns=\"http://www.w3.org/2000/svg\"><g><path d=\"M19.39 14.882c-1.58 0-2.862-1.283-2.862-2.86s1.283-2.862 2.86-2.862 2.862 1.283 2.862 2.86-1.284 2.862-2.86 2.862zm0-4.223c-.75 0-1.362.61-1.362 1.36s.61 1.36 1.36 1.36 1.362-.61 1.362-1.36-.61-1.36-1.36-1.36zM12 14.882c-1.578 0-2.86-1.283-2.86-2.86S10.42 9.158 12 9.158s2.86 1.282 2.86 2.86S13.578 14.88 12 14.88zm0-4.223c-.75 0-1.36.61-1.36 1.36s.61 1.362 1.36 1.362 1.36-.61 1.36-1.36-.61-1.363-1.36-1.363zm-7.39 4.223c-1.577 0-2.86-1.283-2.86-2.86S3.034 9.16 4.61 9.16s2.862 1.283 2.862 2.86-1.283 2.862-2.86 2.862zm0-4.223c-.75 0-1.36.61-1.36 1.36s.61 1.36 1.36 1.36 1.362-.61 1.362-1.36-.61-1.36-1.36-1.36z\"></path></g></svg><span class=\"css-901oao css-16my406 css-bfa6kz r-1qd0xha r-ad9z0x r-bcqeeo r-qvutc0\"></span></div></div></div></div></div></div></div></header><main class=\"css-1dbjc4n r-16y2uox r-1wbh5a2\" role=\"main\"><div class=\"css-1dbjc4n r-150rngu r-16y2uox r-1wbh5a2\"><div class=\"css-1dbjc4n r-16y2uox\"><div class=\"css-1dbjc4n r-1iusvr4 r-16y2uox r-1777fci\"><div aria-label=\"Loading\" aria-valuemax=\"1\" aria-valuemin=\"0\" class=\"css-1dbjc4n r-1awozwy r-1777fci\" role=\"progressbar\"><div class=\"css-1dbjc4n r-17bb2tj r-1muvv40 r-127358a r-1ldzwu0\" style=\"height: 26px; width: 26px;\"><svg height=\"100%\" viewbox=\"0 0 32 32\" width=\"100%\" xmlns=\"http://www.w3.org/2000/svg\"><circle cx=\"16\" cy=\"16\" fill=\"none\" r=\"14\" stroke-width=\"4\" style=\"stroke: rgb(29, 161, 242); opacity: 0.2;\"></circle><circle cx=\"16\" cy=\"16\" fill=\"none\" r=\"14\" stroke-width=\"4\" style=\"stroke: rgb(29, 161, 242); stroke-dasharray: 80; stroke-dashoffset: 60;\"></circle></svg></div></div></div></div></div></main></div></div></div></div>\n",
       "<script nonce=\"\">\n",
       "window.__INITIAL_STATE__ = {\"optimist\":[],\"featureSwitch\":{\"config\":{\"account_country_setting_countries_whitelist\":{\"value\":[\"ad\",\"ae\",\"af\",\"ag\",\"ai\",\"al\",\"am\",\"ao\",\"ar\",\"as\",\"at\",\"au\",\"aw\",\"ax\",\"az\",\"ba\",\"bb\",\"bd\",\"be\",\"bf\",\"bg\",\"bh\",\"bi\",\"bj\",\"bl\",\"bm\",\"bn\",\"bo\",\"bq\",\"br\",\"bs\",\"bt\",\"bv\",\"bw\",\"by\",\"bz\",\"ca\",\"cc\",\"cd\",\"cf\",\"cg\",\"ch\",\"ci\",\"ck\",\"cl\",\"cm\",\"co\",\"cr\",\"cu\",\"cv\",\"cw\",\"cx\",\"cy\",\"cz\",\"de\",\"dj\",\"dk\",\"dm\",\"do\",\"dz\",\"ec\",\"ee\",\"eg\",\"er\",\"es\",\"et\",\"fi\",\"fj\",\"fk\",\"fm\",\"fo\",\"fr\",\"ga\",\"gb\",\"gd\",\"ge\",\"gf\",\"gg\",\"gh\",\"gi\",\"gl\",\"gm\",\"gn\",\"gp\",\"gq\",\"gr\",\"gs\",\"gt\",\"gu\",\"gw\",\"gy\",\"hk\",\"hn\",\"hr\",\"ht\",\"hu\",\"id\",\"ie\",\"il\",\"im\",\"in\",\"io\",\"iq\",\"ir\",\"is\",\"it\",\"je\",\"jm\",\"jo\",\"jp\",\"ke\",\"kg\",\"kh\",\"ki\",\"km\",\"kn\",\"kr\",\"kw\",\"ky\",\"kz\",\"la\",\"lb\",\"lc\",\"li\",\"lk\",\"lr\",\"ls\",\"lt\",\"lu\",\"lv\",\"ly\",\"ma\",\"mc\",\"md\",\"me\",\"mf\",\"mg\",\"mh\",\"mk\",\"ml\",\"mn\",\"mo\",\"mp\",\"mq\",\"mr\",\"ms\",\"mt\",\"mu\",\"mv\",\"mw\",\"mx\",\"my\",\"mz\",\"na\",\"nc\",\"ne\",\"nf\",\"ng\",\"ni\",\"nl\",\"no\",\"np\",\"nr\",\"nu\",\"nz\",\"om\",\"pa\",\"pe\",\"pf\",\"pg\",\"ph\",\"pk\",\"pl\",\"pm\",\"pn\",\"pr\",\"ps\",\"pt\",\"pw\",\"py\",\"qa\",\"re\",\"ro\",\"rs\",\"ru\",\"rw\",\"sa\",\"sb\",\"sc\",\"se\",\"sg\",\"sh\",\"si\",\"sk\",\"sl\",\"sm\",\"sn\",\"so\",\"sr\",\"st\",\"sv\",\"sx\",\"sz\",\"tc\",\"td\",\"tf\",\"tg\",\"th\",\"tj\",\"tk\",\"tl\",\"tm\",\"tn\",\"to\",\"tr\",\"tt\",\"tv\",\"tw\",\"tz\",\"ua\",\"ug\",\"us\",\"uy\",\"uz\",\"va\",\"vc\",\"ve\",\"vi\",\"vn\",\"vu\",\"wf\",\"ws\",\"xk\",\"ye\",\"yt\",\"za\",\"zm\",\"zw\"]},\"author_moderated_replies_urt_container_enabled\":{\"value\":false},\"content_language_setting_enabled\":{\"value\":true},\"conversation_controls_limited_replies_creation_enabled\":{\"value\":false},\"dm_reactions_config_active_reactions\":{\"value\":[\"😂:funny\",\"😲:surprised\",\"😢:sad\",\"❤:like\",\"🔥:excited\",\"👍:agree\",\"👎:disagree\"]},\"dm_reactions_config_inactive_reactions\":{\"value\":[\"😠:angry\"]},\"guest_broadcasting_timeline_decorations_enabled\":{\"value\":true},\"home_timeline_latest_timeline_autoswitch_half_life_minutes\":{\"value\":43200},\"home_timeline_latest_timeline_autoswitch_threshold_multiplier\":{\"value\":2},\"home_timeline_latest_timeline_max_time_to_autoswitch_minutes\":{\"value\":5256000},\"home_timeline_latest_timeline_min_time_to_autoswitch_minutes\":{\"value\":5256000},\"home_timeline_latest_timeline_switch_enabled\":{\"value\":true},\"home_timeline_latest_timeline_threshold_to_increase_autoswitch_seconds\":{\"value\":60},\"home_timeline_spheres_channel_copy_enabled\":{\"value\":false},\"home_timeline_spheres_detail_page_muting_enabled\":{\"value\":false},\"home_timeline_spheres_creation_and_edit_flows_enabled\":{\"value\":false},\"home_timeline_spheres_discovery_page_enabled\":{\"value\":false},\"home_timeline_spheres_max_user_owned_or_subscribed_lists_count\":{\"value\":0},\"home_timeline_spheres_management_page_enabled\":{\"value\":false},\"home_timeline_spheres_ranking_mode_control_enabled\":{\"value\":true},\"live_event_multi_video_auto_advance_dock_enabled\":{\"value\":true},\"live_event_multi_video_auto_advance_enabled\":{\"value\":true},\"live_event_multi_video_auto_advance_fullscreen_enabled\":{\"value\":false},\"live_event_multi_video_auto_advance_transition_duration_seconds\":{\"value\":5},\"live_event_multi_video_enabled\":{\"value\":true},\"live_event_timeline_default_refresh_rate_interval_seconds\":{\"value\":30},\"live_event_timeline_minimum_refresh_rate_interval_seconds\":{\"value\":10},\"live_event_timeline_server_controlled_refresh_rate_enabled\":{\"value\":true},\"live_event_vod_promoted_content_enabled\":{\"value\":false},\"live_event_docking_enabled\":{\"value\":true},\"livepipeline_client_enabled\":{\"value\":true},\"livepipeline_dm_features_enabled\":{\"value\":true},\"livepipeline_tweetengagement_enabled\":{\"value\":true},\"moment_annotations_enabled\":{\"value\":true},\"navigation_stack_referrer_param_enabled\":{\"value\":false},\"network_layer_503_backoff_mode\":{\"value\":\"disable\"},\"responsive_web_2fa_settings_change_copy_enabled\":{\"value\":true},\"responsive_web_alt_svc\":{\"value\":false},\"responsive_web_alt_text_badge_enabled\":{\"value\":false},\"responsive_web_alt_text_by_default_enabled\":{\"value\":false},\"responsive_web_alt_text_gif_default_text_enabled\":{\"value\":false},\"responsive_web_alt_text_gifs_enabled\":{\"value\":true},\"responsive_web_alt_text_max_length\":{\"value\":420},\"responsive_web_api_transition_enabled\":{\"value\":false},\"responsive_web_auto_logout_multiaccount_enabled\":{\"value\":true},\"responsive_web_auto_logout_restrictedauthtoken_enabled\":{\"value\":true},\"responsive_web_auto_logout_twid_enabled\":{\"value\":true},\"responsive_web_branch_download_links_enabled\":{\"value\":true},\"responsive_web_branch_sdk_enabled\":{\"value\":true},\"responsive_web_broadcast_page_card_enabled\":{\"value\":true},\"responsive_web_cleanup_macaw_swift_indexed_db\":{\"value\":true},\"responsive_web_continue_as_param_enabled\":{\"value\":true},\"responsive_web_continue_as_always_enabled\":{\"value\":false},\"responsive_web_conversation_tree_enabled\":{\"value\":false},\"responsive_web_conversation_tree_toggle\":{\"value\":false},\"responsive_web_conversation_tree_hide_tweet_actions\":{\"value\":false},\"responsive_web_conversation_tree_hide_tweet_action_counts\":{\"value\":false},\"responsive_web_conversation_tree_hide_caret\":{\"value\":false},\"responsive_web_csrf_clientside_enabled\":{\"value\":true},\"responsive_web_dark_mode_scrollbars_enabled\":{\"value\":false},\"responsive_web_desktop_app_reload_hard_ttl\":{\"value\":86400000},\"responsive_web_desktop_app_reload_nightly_reset_enabled\":{\"value\":false},\"responsive_web_desktop_app_reload_soft_ttl\":{\"value\":86400000},\"responsive_web_disable_access\":{\"value\":true},\"responsive_web_dm_typeahead_enabled\":{\"value\":false},\"responsive_web_dm_quick_access_enabled\":{\"value\":false},\"responsive_web_dm_quick_access_multi_draft_enabled\":{\"value\":true},\"responsive_web_dm_quick_access_multi_draft_with_text_enabled\":{\"value\":false},\"responsive_web_elevated_qt_api_enabled\":{\"value\":false},\"responsive_web_eu_countries\":{\"value\":[\"at\",\"be\",\"bg\",\"ch\",\"cy\",\"cz\",\"de\",\"dk\",\"ee\",\"es\",\"fi\",\"fr\",\"gb\",\"gr\",\"hr\",\"hu\",\"ie\",\"is\",\"it\",\"li\",\"lt\",\"lu\",\"lv\",\"mt\",\"nl\",\"no\",\"pl\",\"pt\",\"ro\",\"se\",\"si\",\"sk\"]},\"responsive_web_explore_as_lohp_enabled\":{\"value\":true},\"responsive_web_explore_tab_followup_enabled\":{\"value\":false},\"responsive_web_extension_compatibility_hide\":{\"value\":false},\"responsive_web_extension_compatibility_impression_guard\":{\"value\":true},\"responsive_web_extension_compatibility_override_param\":{\"value\":false},\"responsive_web_extension_compatibility_scribe\":{\"value\":true},\"responsive_web_extension_compatibility_size_threshold\":{\"value\":50},\"responsive_web_fake_root_twitter_domain_for_testing\":{\"value\":false},\"responsive_web_feature_switch_dash_enabled\":{\"value\":false},\"responsive_web_fetch_hashflags_on_boot\":{\"value\":true},\"responsive_web_framerate_tracking_home_enabled\":{\"value\":false},\"responsive_web_graphql_amr_timeline\":{\"value\":false},\"responsive_web_graphql_dark_reads_probability\":{\"value\":0},\"responsive_web_graphql_following\":{\"value\":true},\"responsive_web_graphql_list_crud\":{\"value\":true},\"responsive_web_graphql_list_management_timelines_enabled\":{\"value\":false},\"responsive_web_graphql_list_members_subscribers_enabled\":{\"value\":false},\"responsive_web_graphql_list_operations\":{\"value\":false},\"responsive_web_graphql_user_lists_blocked\":{\"value\":true},\"responsive_web_graphql_user_lists_followers_you_follow\":{\"value\":true},\"responsive_web_graphql_user_lists_muted\":{\"value\":true},\"responsive_web_graphql_verify_credentials_enabled\":{\"value\":true},\"responsive_web_guest_token_reporting\":{\"value\":true},\"responsive_web_hide_media_previews_enabled\":{\"value\":false},\"responsive_web_home_wait_for_seenIds_enabled\":{\"value\":false},\"responsive_web_horizon_video_player_enabled\":{\"value\":true},\"responsive_web_html_archive_renderer_enabled\":{\"value\":true},\"responsive_web_hw_cards_in_dms_enabled\":{\"value\":false},\"responsive_web_inline_login_field_prompts_enabled\":{\"value\":false},\"responsive_web_inline_reply_enabled\":{\"value\":false},\"responsive_web_inline_reply_with_fab_enabled\":{\"value\":false},\"responsive_web_instream_video_enabled\":{\"value\":false},\"responsive_web_live_video_parity_periscope_auth_enabled\":{\"value\":false},\"responsive_web_login_input_type_email_enabled\":{\"value\":false},\"responsive_web_login_signup_sheet_app_install_cta_enabled\":{\"value\":true},\"responsive_web_media_upload_eager_enabled\":{\"value\":true},\"responsive_web_media_upload_limit_2g\":{\"value\":250},\"responsive_web_media_upload_limit_3g\":{\"value\":1500},\"responsive_web_media_upload_limit_slow_2g\":{\"value\":150},\"responsive_web_media_upload_md5_hashing_enabled\":{\"value\":false},\"responsive_web_media_upload_target_jpg_pixels_per_byte\":{\"value\":1},\"responsive_web_media_viewer_m2_focal_tweet_media_enabled\":{\"value\":false},\"responsive_web_media_viewer_m2_sidebar_enabled\":{\"value\":true},\"responsive_web_media_viewer_m2_tweet_actions_bar_enabled\":{\"value\":true},\"responsive_web_moment_maker_enabled\":{\"value\":false},\"responsive_web_multiple_account_limit\":{\"value\":5},\"responsive_web_new_multi_account_ux_enabled\":{\"value\":true},\"responsive_web_news_camera_consume_enabled\":{\"value\":true},\"responsive_web_ntab_verified_mentions_vit_internal_dogfood\":{\"value\":false},\"responsive_web_ocf_sms_autoverify_enabled\":{\"value\":false},\"responsive_web_report_page_not_found\":{\"value\":false},\"responsive_web_rich_tweet_landing_enabled\":{\"value\":true},\"responsive_web_scheduling_edit_enabled\":{\"value\":false},\"responsive_web_scheduling_enabled\":{\"value\":false},\"responsive_web_scheduling_entry_point\":{\"value\":\"overflow\"},\"responsive_web_scroller_autopoll_enabled\":{\"value\":false},\"responsive_web_scroller_v3_enabled\":{\"value\":true},\"responsive_web_search_dms_enabled\":{\"value\":true},\"responsive_web_side_nav_enabled\":{\"value\":false},\"responsive_web_sports_carousel\":{\"value\":false},\"responsive_web_trends_setting_new_endpoints\":{\"value\":true},\"responsive_web_tweet_detail_to_tweet_enabled\":{\"value\":false},\"responsive_web_tweet_drafts_enabled\":{\"value\":false},\"responsive_web_tweets_pill_local_enabled\":{\"value\":false},\"responsive_web_unified_cards_live_event_enabled\":{\"value\":true},\"responsive_web_unified_cards_poll2choice_image_enabled\":{\"value\":false},\"responsive_web_unified_cards_poll2choice_video_enabled\":{\"value\":false},\"responsive_web_unified_cards_poll3choice_image_enabled\":{\"value\":false},\"responsive_web_unified_cards_poll3choice_video_enabled\":{\"value\":false},\"responsive_web_unified_cards_poll4choice_image_enabled\":{\"value\":false},\"responsive_web_unified_cards_poll4choice_video_enabled\":{\"value\":false},\"responsive_web_verification_v2_enabled\":{\"value\":true},\"responsive_web_video_native_fullscreen_enabled\":{\"value\":true},\"responsive_web_video_promoted_logging_enabled\":{\"value\":true},\"responsive_web_vod_muted_captions_enabled\":{\"value\":true},\"responsive_web_vs_config_desktop_assumed_item_height\":{\"value\":100},\"responsive_web_vs_config_resize_observer_enabled\":{\"value\":true},\"responsive_web_zipkin_api_requests_enabled\":{\"value\":false},\"scribe_api_error_sample_size\":{\"value\":0},\"scribe_api_sample_size\":{\"value\":100},\"scribe_cdn_host_list\":{\"value\":[\"si0.twimg.com\",\"si1.twimg.com\",\"si2.twimg.com\",\"si3.twimg.com\",\"a0.twimg.com\",\"a1.twimg.com\",\"a2.twimg.com\",\"a3.twimg.com\",\"abs.twimg.com\",\"amp.twimg.com\",\"o.twimg.com\",\"pbs.twimg.com\",\"pbs-eb.twimg.com\",\"pbs-ec.twimg.com\",\"pbs-v6.twimg.com\",\"pbs-h1.twimg.com\",\"pbs-h2.twimg.com\",\"video.twimg.com\",\"platform.twitter.com\",\"cdn.api.twitter.com\",\"ton.twimg.com\",\"v.cdn.vine.co\",\"mtc.cdn.vine.co\",\"edge.vncdn.co\",\"mid.vncdn.co\"]},\"scribe_cdn_sample_size\":{\"value\":50},\"scribe_enabled\":{\"value\":true},\"soft_interventions_forward_pivot_enabled\":{\"value\":true},\"topic_landing_page_enabled\":{\"value\":false},\"topics_descriptions_enabled\":{\"value\":false},\"topics_dismiss_control_enabled\":{\"value\":false},\"topics_new_mgmt_enabled\":{\"value\":false},\"tweet_limited_actions_config_enabled\":{\"value\":true},\"tweet_limited_actions_config_non_compliant\":{\"value\":[\"reply\",\"retweet\",\"like\",\"send_via_dm\",\"add_to_bookmarks\",\"add_to_moment\",\"pin_to_profile\",\"view_tweet_activity\",\"share_tweet_via\"]},\"user_display_name_max_limit\":{\"value\":50},\"web_video_hls_mp4_threshold_sec\":{\"value\":0},\"web_video_hlsjs_max_buffer_length_pause\":{\"value\":0},\"web_video_hlsjs_max_buffer_length_play\":{\"value\":0},\"web_video_hlsjs_version\":{\"value\":\"\"},\"responsive_web_composer_multi_draft_enabled\":{\"value\":false},\"responsive_web_graphql_followers_9209\":{\"value\":\"treatment\"}},\"debug\":{},\"impression_pointers\":{},\"impressions\":{},\"featureSetToken\":\"8a787ac3aade2107d1710563c5fbd91c3bf4ec52\",\"isLoaded\":true,\"isLoading\":false,\"keysRead\":{},\"settingsVersion\":\"e3330709729d20663788afce56323100\"},\"urt\":{},\"entities\":{\"users\":{\"entities\":{},\"errors\":{},\"fetchStatus\":{}},\"tweets\":{\"entities\":{},\"errors\":{},\"fetchStatus\":{}},\"cards\":{\"entities\":{},\"errors\":{},\"fetchStatus\":{}}},\"toasts\":[],\"devices\":{\"browserPush\":{\"fetchStatus\":\"none\",\"pushNotificationsPrompt\":{\"dismissed\":false,\"fetchStatus\":\"none\"},\"subscribed\":false,\"supported\":null},\"devices\":{\"data\":{\"emails\":[],\"phone_numbers\":[]},\"fetchStatus\":\"none\"},\"notificationSettings\":{\"push_settings\":{\"error\":null,\"fetchStatus\":\"none\"},\"push_settings_template\":{\"template\":{\"settings\":[]}},\"sms_settings\":{\"error\":null,\"fetchStatus\":\"none\"},\"sms_settings_template\":{\"template\":{\"settings\":[]}},\"checkin_time\":null}},\"typeaheadUsers\":{\"fetchStatus\":\"none\",\"users\":{},\"denylist\":{},\"lastUpdated\":0,\"index\":{}},\"session\":{\"country\":\"US\",\"emailLiteLoginEligibility\":{\"fetchStatus\":\"none\"},\"guestId\":\"158778396349627267\",\"language\":\"en\",\"oneFactorLoginEligibility\":{\"fetchStatus\":\"none\"}},\"settings\":{\"local\":{\"nextPushCheckin\":0,\"shouldAutoPlayGif\":false,\"scale\":\"normal\",\"themeColor\":\"blue\",\"highContrastEnabled\":false,\"themeBackground\":\"light\",\"loginPromptLastShown\":0,\"mediaPreviewsEnabled\":true,\"reducedMotionEnabled\":false,\"conversationTreeEnabled\":false,\"showTweetMediaDetailDrawer\":true},\"remote\":{\"settings\":{\"display_sensitive_media\":false},\"fetchStatus\":\"none\"},\"dataSaver\":{\"dataSaverMode\":false},\"transient\":{\"dtabBarInfo\":{\"dtabAll\":null,\"dtabRweb\":null,\"hide\":false},\"loginPromptShown\":false,\"lastViewedDmInboxPath\":\"/messages\",\"themeFocus\":\"\"}},\"hashflags\":{\"fetchStatus\":\"none\",\"hashflags\":{}}};\n",
       "window.__META_DATA__ = {\"env\":\"prod\",\"isFromDynamicRenderer\":false,\"isLoggedIn\":false,\"isRTL\":false,\"hasMultiAccountCookie\":false,\"userAgentRequestHeader\":\"Mozilla/5.0 (Windows NT 10.0; Win64; x64) AppleWebKit/537.36 (KHTML, like Gecko) Chrome/81.0.4044.113 Safari/537.36\",\"serverDate\":1587791056397,\"sha\":\"43ddbb55f6ec622cf9e0b253812970166cd0c439\"};\n",
       "</script>\n",
       "<script charset=\"utf-8\" nonce=\"\" type=\"text/javascript\">\n",
       "  window.__SCRIPTS_LOADED__ = {};\n",
       "  !function(e){function n(n){for(var o,i,t=n[0],c=n[1],l=n[2],u=0,b=[];u&lt;t.length;u++)i=t[u],Object.prototype.hasOwnProperty.call(a,i)&amp;&amp;a[i]&amp;&amp;b.push(a[i][0]),a[i]=0;for(o in c)Object.prototype.hasOwnProperty.call(c,o)&amp;&amp;(e[o]=c[o]);for(m&amp;&amp;m(n);b.length;)b.shift()();return r.push.apply(r,l||[]),d()}function d(){for(var e,n=0;n&lt;r.length;n++){for(var d=r[n],o=!0,t=1;t&lt;d.length;t++){var c=d[t];0!==a[c]&amp;&amp;(o=!1)}o&amp;&amp;(r.splice(n--,1),e=i(i.s=d[0]))}return e}var o={},a={0:0},r=[];function i(n){if(o[n])return o[n].exports;var d=o[n]={i:n,l:!1,exports:{}};return e[n].call(d.exports,d,d.exports,i),d.l=!0,d.exports}i.e=function(e){var n=[],d=a[e];if(0!==d)if(d)n.push(d[2]);else{var o=new Promise((function(n,o){d=a[e]=[n,o]}));n.push(d[2]=o);var r,t=document.createElement(\"script\");t.charset=\"utf-8\",t.timeout=120,i.nc&amp;&amp;t.setAttribute(\"nonce\",i.nc),t.src=function(e){return i.p+\"\"+({2:\"shared~bundle.HomeTimeline\",3:\"shared~bundle.DirectMessages\",4:\"shared~bundle.UserProfile\",5:\"shared~bundle.Settings\",6:\"bundle.DMRichTextCompose~bundle.DirectMessages~loader.DMDrawer\",7:\"bundle.NewsCameraCapsule~loader.NewsCamera~loaders.video.VideoPlayerDefaultUI\",8:\"bundle.Display~bundle.Settings\",9:\"bundle.Explore~loader.ExploreSidebar\",10:\"bundle.LiveEvent~bundle.MomentMaker\",11:\"bundle.NewsCameraCapsule~loader.NewsCamera\",12:\"loaders.video.PlayerBase~ondemand.lex\",13:\"vendors~bundle.MomentMaker~ondemand.EditPinned\",14:\"bundle.AboutThisAd\",15:\"bundle.Account\",16:\"bundle.AdvancedSearch\",17:\"bundle.Bookmarks\",18:\"bundle.Broadcast\",19:\"bundle.Collection\",20:\"bundle.Compose\",21:\"bundle.ComposeMedia\",22:\"bundle.ConnectTab\",23:\"bundle.Conversation\",24:\"bundle.ConversationParticipants\",25:\"bundle.DMRichTextCompose\",26:\"bundle.DirectMessages\",27:\"bundle.Display\",28:\"bundle.Download\",29:\"bundle.Explore\",30:\"bundle.ExploreTopics\",31:\"bundle.FollowerRequests\",32:\"bundle.GenericTimeline\",33:\"bundle.GifSearch\",34:\"bundle.HomeTimeline\",35:\"bundle.KeyboardShortcuts\",36:\"bundle.LiveEvent\",37:\"bundle.LoggedOutHome\",38:\"bundle.Login\",39:\"bundle.Logout\",40:\"bundle.Moment\",41:\"bundle.MomentMaker\",42:\"bundle.MultiAccount\",43:\"bundle.NetworkInstrument\",44:\"bundle.NewsCameraCapsule\",45:\"bundle.NotificationDetail\",46:\"bundle.Notifications\",47:\"bundle.Ocf\",48:\"bundle.Place\",49:\"bundle.PlainTextCompose\",50:\"bundle.ProfileRedirect\",51:\"bundle.Report\",52:\"bundle.RichTextCompose\",53:\"bundle.Search\",54:\"bundle.Settings\",55:\"bundle.SettingsInternals\",56:\"bundle.SettingsProfile\",57:\"bundle.SettingsTransparency\",58:\"bundle.SmsLogin\",59:\"bundle.Topics\",60:\"bundle.Trends\",61:\"bundle.TweetActivity\",62:\"bundle.TweetMediaDetail\",63:\"bundle.TweetMediaTags\",64:\"bundle.Twitterversary\",65:\"bundle.UserAvatar\",66:\"bundle.UserFollowLists\",67:\"bundle.UserHeader\",68:\"bundle.UserLists\",69:\"bundle.UserMoments\",70:\"bundle.UserProfile\",71:\"bundle.UserProfileTimelines\",72:\"bundle.UserRedirect\",171:\"loader.AbsolutePower\",172:\"loader.AppModules\",173:\"loader.DMDrawer\",174:\"loader.DashMenu\",175:\"loader.ExploreSidebar\",176:\"loader.FeedbackSheet\",177:\"loader.FeedbackTombstone\",178:\"loader.HWCard\",179:\"loader.NewTweetsPill\",180:\"loader.NewsCamera\",181:\"loader.PeriscopeOverlay\",182:\"loader.ProfileClusterFollow\",183:\"loader.PushNotificationsPrompt\",184:\"loader.SideNav\",185:\"loader.SignupModule\",186:\"loader.TimelineGap\",187:\"loader.TimelineRenderer\",188:\"loader.TweetCurationActionMenu\",189:\"loader.TweetPhotos\",190:\"loader.Typeahead\",191:\"loader.WideLayout\",192:\"loader.graphQLDarkReads\",193:\"loaders.video.PlayerBase\",194:\"loaders.video.PlayerHls12\",195:\"loaders.video.PlayerHls13\",196:\"loaders.video.PlayerUi\",197:\"loaders.video.VideoPlayerDefaultUI\",199:\"ondemand.Balloons\",200:\"ondemand.CarouselScroller\",201:\"ondemand.ComposeScheduling\",202:\"ondemand.EditBirthdate\",203:\"ondemand.EditPinned\",204:\"ondemand.EmojiPicker\",205:\"ondemand.HoverCard\",206:\"ondemand.InlinePlayer\",207:\"ondemand.IntentPrompt\",208:\"ondemand.MicrosoftInterface\",209:\"ondemand.ProfileSidebar\",210:\"ondemand.SettingsInternals\",211:\"ondemand.countries-ar\",212:\"ondemand.countries-bg\",213:\"ondemand.countries-bn\",214:\"ondemand.countries-ca\",215:\"ondemand.countries-cs\",216:\"ondemand.countries-da\",217:\"ondemand.countries-de\",218:\"ondemand.countries-el\",219:\"ondemand.countries-en\",220:\"ondemand.countries-en-GB\",221:\"ondemand.countries-es\",222:\"ondemand.countries-eu\",223:\"ondemand.countries-fa\",224:\"ondemand.countries-fi\",225:\"ondemand.countries-fil\",226:\"ondemand.countries-fr\",227:\"ondemand.countries-ga\",228:\"ondemand.countries-gl\",229:\"ondemand.countries-gu\",230:\"ondemand.countries-he\",231:\"ondemand.countries-hi\",232:\"ondemand.countries-hr\",233:\"ondemand.countries-hu\",234:\"ondemand.countries-id\",235:\"ondemand.countries-it\",236:\"ondemand.countries-ja\",237:\"ondemand.countries-kn\",238:\"ondemand.countries-ko\",239:\"ondemand.countries-mr\",240:\"ondemand.countries-ms\",241:\"ondemand.countries-nb\",242:\"ondemand.countries-nl\",243:\"ondemand.countries-pl\",244:\"ondemand.countries-pt\",245:\"ondemand.countries-ro\",246:\"ondemand.countries-ru\",247:\"ondemand.countries-sk\",248:\"ondemand.countries-sr\",249:\"ondemand.countries-sv\",250:\"ondemand.countries-ta\",251:\"ondemand.countries-th\",252:\"ondemand.countries-tr\",253:\"ondemand.countries-uk\",254:\"ondemand.countries-ur\",255:\"ondemand.countries-zh\",256:\"ondemand.countries-zh-Hant\",257:\"ondemand.emoji.ar\",258:\"ondemand.emoji.bg\",259:\"ondemand.emoji.bn\",260:\"ondemand.emoji.ca\",261:\"ondemand.emoji.cs\",262:\"ondemand.emoji.da\",263:\"ondemand.emoji.de\",264:\"ondemand.emoji.el\",265:\"ondemand.emoji.en\",266:\"ondemand.emoji.en-GB\",267:\"ondemand.emoji.en-ss\",268:\"ondemand.emoji.en-xx\",269:\"ondemand.emoji.es\",270:\"ondemand.emoji.eu\",271:\"ondemand.emoji.fa\",272:\"ondemand.emoji.fi\",273:\"ondemand.emoji.fil\",274:\"ondemand.emoji.fr\",275:\"ondemand.emoji.ga\",276:\"ondemand.emoji.gl\",277:\"ondemand.emoji.gu\",278:\"ondemand.emoji.he\",279:\"ondemand.emoji.hi\",280:\"ondemand.emoji.hr\",281:\"ondemand.emoji.hu\",282:\"ondemand.emoji.id\",283:\"ondemand.emoji.it\",284:\"ondemand.emoji.ja\",285:\"ondemand.emoji.kn\",286:\"ondemand.emoji.ko\",287:\"ondemand.emoji.mr\",288:\"ondemand.emoji.ms\",289:\"ondemand.emoji.nb\",290:\"ondemand.emoji.nl\",291:\"ondemand.emoji.pl\",292:\"ondemand.emoji.pt\",293:\"ondemand.emoji.ro\",294:\"ondemand.emoji.ru\",295:\"ondemand.emoji.sk\",296:\"ondemand.emoji.sr\",297:\"ondemand.emoji.sv\",298:\"ondemand.emoji.ta\",299:\"ondemand.emoji.th\",300:\"ondemand.emoji.tr\",301:\"ondemand.emoji.uk\",302:\"ondemand.emoji.ur\",303:\"ondemand.emoji.vi\",304:\"ondemand.emoji.zh\",305:\"ondemand.emoji.zh-Hant\",306:\"ondemand.framerateTracking\",307:\"ondemand.lex\",309:\"vendors~bundle.DMRichTextCompose\",310:\"vendors~bundle.MomentMaker\",311:\"vendors~loaders.video.PlayerBase\",312:\"vendors~loaders.video.PlayerUi\",313:\"vendors~ondemand.EmojiPicker\"}[e]||e)+\".\"+{2:\"99528e7\",3:\"6d2afd8\",4:\"ac06e7e\",5:\"f01c306\",6:\"081e65c\",7:\"a9a5b28\",8:\"39f0932\",9:\"b4292bc\",10:\"5b3253c\",11:\"ffef261\",12:\"41688ff\",13:\"98e37cd\",14:\"432f4cb\",15:\"ddf0c4b\",16:\"e111ed5\",17:\"10a4aa0\",18:\"9ab6b21\",19:\"a9081ec\",20:\"f912b18\",21:\"b9808ce\",22:\"cf14ca4\",23:\"2a9da8d\",24:\"1df7f40\",25:\"b131805\",26:\"78f8e0e\",27:\"20b69bb\",28:\"a06c681\",29:\"f825935\",30:\"7b739f1\",31:\"2d70078\",32:\"6a6c021\",33:\"8ea456f\",34:\"7bbcf31\",35:\"9001b84\",36:\"a1cc4db\",37:\"49ed4da\",38:\"11cad14\",39:\"919c969\",40:\"4167c00\",41:\"6efacef\",42:\"af96929\",43:\"1b22505\",44:\"3c76969\",45:\"24bb4ac\",46:\"8c63d29\",47:\"161bf54\",48:\"9eb55a9\",49:\"dd98a4c\",50:\"2e81ccc\",51:\"e77cf00\",52:\"3bbd68a\",53:\"07ea633\",54:\"44815e0\",55:\"f539113\",56:\"8f0baec\",57:\"5865a99\",58:\"5785292\",59:\"dde0086\",60:\"b2fa188\",61:\"3dac8e1\",62:\"7af27d6\",63:\"33f2dd4\",64:\"a90cfe7\",65:\"7e72cd6\",66:\"74aeba4\",67:\"a9b6fce\",68:\"36e2117\",69:\"69aff68\",70:\"0eaa118\",71:\"ad8f38a\",72:\"7ce04d3\",171:\"1a92163\",172:\"6dfb2a4\",173:\"dd4d91f\",174:\"0b3d369\",175:\"0799ab6\",176:\"9d92d65\",177:\"c524cf4\",178:\"8dae40f\",179:\"ff96401\",180:\"49dbc76\",181:\"b0e6aae\",182:\"d37b20d\",183:\"91b6aab\",184:\"c15b8a7\",185:\"e6846b4\",186:\"f861369\",187:\"4a93fbd\",188:\"db60f58\",189:\"d7d7e65\",190:\"6e2393f\",191:\"aedde0f\",192:\"e8830bb\",193:\"c1990f1\",194:\"0ee25a6\",195:\"4ee8b5a\",196:\"0abd540\",197:\"5a431bb\",199:\"09931c9\",200:\"b5c2e2d\",201:\"69cf29a\",202:\"7adb1c7\",203:\"a2d8c76\",204:\"c0ad3f6\",205:\"62c0551\",206:\"497e516\",207:\"2b42f8a\",208:\"bf23028\",209:\"49fec07\",210:\"037eb13\",211:\"00ea181\",212:\"f346c53\",213:\"cb06b71\",214:\"82a9a89\",215:\"96db93c\",216:\"b4fb9d2\",217:\"a7bcaa8\",218:\"a18d72e\",219:\"6ce221d\",220:\"44bcafe\",221:\"1c6e19e\",222:\"c1a3227\",223:\"51f756a\",224:\"dd25f25\",225:\"f22bb31\",226:\"8854aa7\",227:\"913f8f8\",228:\"fa3c8d6\",229:\"2b09d5f\",230:\"7b601ac\",231:\"071131e\",232:\"0185d8d\",233:\"14c84aa\",234:\"44ae616\",235:\"a61c227\",236:\"adb5b36\",237:\"c6aa2a3\",238:\"c26126d\",239:\"44e305b\",240:\"21c37b1\",241:\"9223622\",242:\"de2c21a\",243:\"e49fa83\",244:\"92af350\",245:\"f44ae91\",246:\"bc9cdaa\",247:\"789baea\",248:\"933dbc4\",249:\"280192e\",250:\"12f5b0f\",251:\"f1ac300\",252:\"5bb60cd\",253:\"d78ddab\",254:\"22243e2\",255:\"68d889f\",256:\"ed00825\",257:\"0aa0b8a\",258:\"4d483cd\",259:\"2fbb0e9\",260:\"5b7ba46\",261:\"d353c54\",262:\"bb836b5\",263:\"068c6eb\",264:\"8f2c504\",265:\"907a976\",266:\"2bf9fb2\",267:\"7b3f5c3\",268:\"22f40d2\",269:\"f134395\",270:\"87c80ae\",271:\"7784bc4\",272:\"ba3dbdb\",273:\"31b6ae5\",274:\"06ce131\",275:\"c671011\",276:\"810884b\",277:\"94313fd\",278:\"ab0c332\",279:\"02a0d04\",280:\"6909e6a\",281:\"f39c15c\",282:\"175f256\",283:\"a8d01ce\",284:\"4de6581\",285:\"3726202\",286:\"6fc1b03\",287:\"059ef3c\",288:\"822b4c0\",289:\"5588182\",290:\"cf2aa64\",291:\"a6ae8c7\",292:\"1de4527\",293:\"ba0f1da\",294:\"bd1bb7b\",295:\"04836a5\",296:\"48e009a\",297:\"2d2f670\",298:\"da86d0c\",299:\"c38cf96\",300:\"7472c77\",301:\"21a05ba\",302:\"3534e0c\",303:\"232027e\",304:\"3ca5c01\",305:\"f9ea730\",306:\"c76d26b\",307:\"2dc2680\",309:\"e3ff29e\",310:\"3d0b19a\",311:\"c58c801\",312:\"2cf6da1\",313:\"53aa131\"}[e]+\"4.js\"}(e);var c=new Error;r=function(n){t.onerror=t.onload=null,clearTimeout(l);var d=a[e];if(0!==d){if(d){var o=n&amp;&amp;(\"load\"===n.type?\"missing\":n.type),r=n&amp;&amp;n.target&amp;&amp;n.target.src;c.message=\"Loading chunk \"+e+\" failed.\\n(\"+o+\": \"+r+\")\",c.name=\"ChunkLoadError\",c.type=o,c.request=r,d[1](c)}a[e]=void 0}};var l=setTimeout((function(){r({type:\"timeout\",target:t})}),12e4);t.onerror=t.onload=r,document.head.appendChild(t)}return Promise.all(n)},i.m=e,i.c=o,i.d=function(e,n,d){i.o(e,n)||Object.defineProperty(e,n,{enumerable:!0,get:d})},i.r=function(e){\"undefined\"!=typeof Symbol&amp;&amp;Symbol.toStringTag&amp;&amp;Object.defineProperty(e,Symbol.toStringTag,{value:\"Module\"}),Object.defineProperty(e,\"__esModule\",{value:!0})},i.t=function(e,n){if(1&amp;n&amp;&amp;(e=i(e)),8&amp;n)return e;if(4&amp;n&amp;&amp;\"object\"==typeof e&amp;&amp;e&amp;&amp;e.__esModule)return e;var d=Object.create(null);if(i.r(d),Object.defineProperty(d,\"default\",{enumerable:!0,value:e}),2&amp;n&amp;&amp;\"string\"!=typeof e)for(var o in e)i.d(d,o,function(n){return e[n]}.bind(null,o));return d},i.n=function(e){var n=e&amp;&amp;e.__esModule?function(){return e.default}:function(){return e};return i.d(n,\"a\",n),n},i.o=function(e,n){return Object.prototype.hasOwnProperty.call(e,n)},i.p=\"https://abs.twimg.com/responsive-web/web/\",i.oe=function(e){throw e};var t=window.webpackJsonp=window.webpackJsonp||[],c=t.push.bind(t);t.push=n,t=t.slice();for(var l=0;l&lt;t.length;l++)n(t[l]);var m=c;d()}([]),window.__SCRIPTS_LOADED__.runtime=!0;\n",
       "//# sourceMappingURL=runtime.960aaf94.js.map\n",
       "</script>\n",
       "<script charset=\"utf-8\" crossorigin=\"anonymous\" nonce=\"\" src=\"https://abs.twimg.com/responsive-web/web/polyfills.bab5fe74.js\" type=\"text/javascript\"></script>\n",
       "<script charset=\"utf-8\" crossorigin=\"anonymous\" nonce=\"\" src=\"https://abs.twimg.com/responsive-web/web/vendors~main.e0482f54.js\" type=\"text/javascript\"></script>\n",
       "<script charset=\"utf-8\" crossorigin=\"anonymous\" nonce=\"\" src=\"https://abs.twimg.com/responsive-web/web/i18n-rweb/en.f8607424.js\" type=\"text/javascript\"></script>\n",
       "<script charset=\"utf-8\" crossorigin=\"anonymous\" nonce=\"\" src=\"https://abs.twimg.com/responsive-web/web/i18n-horizon/en.fcbbd314.js\" type=\"text/javascript\"></script>\n",
       "<script charset=\"utf-8\" crossorigin=\"anonymous\" nonce=\"\" src=\"https://abs.twimg.com/responsive-web/web/main.82ef4e44.js\" type=\"text/javascript\"></script>\n",
       "<script nonce=\"\">\n",
       "  if (!window.__SCRIPTS_LOADED__['main']) {\n",
       "    document.getElementById('ScriptLoadFailure').style.display = 'block';\n",
       "  }\n",
       "</script>\n",
       "</body></html>"
      ]
     },
     "execution_count": 188,
     "metadata": {},
     "output_type": "execute_result"
    }
   ],
   "source": [
    "soup"
   ]
  },
  {
   "cell_type": "code",
   "execution_count": 60,
   "metadata": {},
   "outputs": [],
   "source": [
    "# Extract latest tweet\n",
    "#tweet_container = weather_soup.find_all('div', class_=\"css-901oao r-hkyrab r-1qd0xha r-1blvdjr r-16dba41 r-ad9z0x r-bcqeeo r-bnwqim r-qvutc0\")\n",
    "\n",
    "    # Loop through latest tweets and find the tweet that has weather information\n",
    "#for tweet in tweet_container: \n",
    "#        mars_weather = tweet.find('div').text\n",
    "#        if 'sol' and 'pressure' in mars_weather:\n",
    "#            print(mars_weather)\n",
    "#            break\n",
    "#        else: \n",
    "#            pass"
   ]
  },
  {
   "cell_type": "code",
   "execution_count": 155,
   "metadata": {},
   "outputs": [
    {
     "data": {
      "text/plain": [
       "[]"
      ]
     },
     "execution_count": 155,
     "metadata": {},
     "output_type": "execute_result"
    }
   ],
   "source": [
    "tweet_container\n"
   ]
  },
  {
   "cell_type": "code",
   "execution_count": null,
   "metadata": {},
   "outputs": [],
   "source": []
  },
  {
   "cell_type": "markdown",
   "metadata": {},
   "source": [
    "soup\n"
   ]
  },
  {
   "cell_type": "code",
   "execution_count": 15,
   "metadata": {},
   "outputs": [
    {
     "data": {
      "text/plain": [
       "[                      0                              1\n",
       " 0  Equatorial Diameter:                       6,792 km\n",
       " 1       Polar Diameter:                       6,752 km\n",
       " 2                 Mass:  6.39 × 10^23 kg (0.11 Earths)\n",
       " 3                Moons:            2 (Phobos & Deimos)\n",
       " 4       Orbit Distance:       227,943,824 km (1.38 AU)\n",
       " 5         Orbit Period:           687 days (1.9 years)\n",
       " 6  Surface Temperature:                   -87 to -5 °C\n",
       " 7         First Record:              2nd millennium BC\n",
       " 8          Recorded By:           Egyptian astronomers,\n",
       "                       0                              1\n",
       " 0             Diameter:                       3,475 km\n",
       " 1                 Mass:  7.35 × 10^22 kg (0.01 Earths)\n",
       " 2               Orbits:                      The Earth\n",
       " 3       Orbit Distance:                     384,400 km\n",
       " 4         Orbit Period:                      27.3 days\n",
       " 5  Surface Temperature:                 -233 to 123 °C,\n",
       "   Mars - Earth Comparison             Mars            Earth\n",
       " 0               Diameter:         6,779 km        12,742 km\n",
       " 1                   Mass:  6.39 × 10^23 kg  5.97 × 10^24 kg\n",
       " 2                  Moons:                2                1\n",
       " 3      Distance from Sun:   227,943,824 km   149,598,262 km\n",
       " 4         Length of Year:   687 Earth days      365.24 days\n",
       " 5            Temperature:    -153 to 20 °C      -88 to 58°C,\n",
       "                       0                              1\n",
       " 0  Equatorial Diameter:                       6,792 km\n",
       " 1       Polar Diameter:                       6,752 km\n",
       " 2                 Mass:  6.39 × 10^23 kg (0.11 Earths)\n",
       " 3                Moons:            2 (Phobos & Deimos)\n",
       " 4       Orbit Distance:       227,943,824 km (1.38 AU)\n",
       " 5         Orbit Period:           687 days (1.9 years)\n",
       " 6  Surface Temperature:                   -87 to -5 °C\n",
       " 7         First Record:              2nd millennium BC\n",
       " 8          Recorded By:           Egyptian astronomers]"
      ]
     },
     "execution_count": 15,
     "metadata": {},
     "output_type": "execute_result"
    }
   ],
   "source": [
    "\n",
    "#Mars Facts\n",
    "#url to use\n",
    "url = 'https://space-facts.com/mars/'\n",
    "\n",
    "tables = pd.read_html(url)\n",
    "tables\n"
   ]
  },
  {
   "cell_type": "code",
   "execution_count": 44,
   "metadata": {
    "scrolled": true
   },
   "outputs": [
    {
     "data": {
      "text/html": [
       "<div>\n",
       "<style scoped>\n",
       "    .dataframe tbody tr th:only-of-type {\n",
       "        vertical-align: middle;\n",
       "    }\n",
       "\n",
       "    .dataframe tbody tr th {\n",
       "        vertical-align: top;\n",
       "    }\n",
       "\n",
       "    .dataframe thead th {\n",
       "        text-align: right;\n",
       "    }\n",
       "</style>\n",
       "<table border=\"1\" class=\"dataframe\">\n",
       "  <thead>\n",
       "    <tr style=\"text-align: right;\">\n",
       "      <th></th>\n",
       "      <th>Description</th>\n",
       "      <th>Value</th>\n",
       "    </tr>\n",
       "  </thead>\n",
       "  <tbody>\n",
       "    <tr>\n",
       "      <td>0</td>\n",
       "      <td>Equatorial Diameter:</td>\n",
       "      <td>6,792 km</td>\n",
       "    </tr>\n",
       "    <tr>\n",
       "      <td>1</td>\n",
       "      <td>Polar Diameter:</td>\n",
       "      <td>6,752 km</td>\n",
       "    </tr>\n",
       "    <tr>\n",
       "      <td>2</td>\n",
       "      <td>Mass:</td>\n",
       "      <td>6.39 × 10^23 kg (0.11 Earths)</td>\n",
       "    </tr>\n",
       "    <tr>\n",
       "      <td>3</td>\n",
       "      <td>Moons:</td>\n",
       "      <td>2 (Phobos &amp; Deimos)</td>\n",
       "    </tr>\n",
       "    <tr>\n",
       "      <td>4</td>\n",
       "      <td>Orbit Distance:</td>\n",
       "      <td>227,943,824 km (1.38 AU)</td>\n",
       "    </tr>\n",
       "    <tr>\n",
       "      <td>5</td>\n",
       "      <td>Orbit Period:</td>\n",
       "      <td>687 days (1.9 years)</td>\n",
       "    </tr>\n",
       "    <tr>\n",
       "      <td>6</td>\n",
       "      <td>Surface Temperature:</td>\n",
       "      <td>-87 to -5 °C</td>\n",
       "    </tr>\n",
       "    <tr>\n",
       "      <td>7</td>\n",
       "      <td>First Record:</td>\n",
       "      <td>2nd millennium BC</td>\n",
       "    </tr>\n",
       "    <tr>\n",
       "      <td>8</td>\n",
       "      <td>Recorded By:</td>\n",
       "      <td>Egyptian astronomers</td>\n",
       "    </tr>\n",
       "  </tbody>\n",
       "</table>\n",
       "</div>"
      ],
      "text/plain": [
       "            Description                          Value\n",
       "0  Equatorial Diameter:                       6,792 km\n",
       "1       Polar Diameter:                       6,752 km\n",
       "2                 Mass:  6.39 × 10^23 kg (0.11 Earths)\n",
       "3                Moons:            2 (Phobos & Deimos)\n",
       "4       Orbit Distance:       227,943,824 km (1.38 AU)\n",
       "5         Orbit Period:           687 days (1.9 years)\n",
       "6  Surface Temperature:                   -87 to -5 °C\n",
       "7         First Record:              2nd millennium BC\n",
       "8          Recorded By:           Egyptian astronomers"
      ]
     },
     "execution_count": 44,
     "metadata": {},
     "output_type": "execute_result"
    }
   ],
   "source": [
    "#Find Mars Facts DataFrame in the lists of DataFrames\n",
    "df = tables[0]\n",
    "#Assign the columns\n",
    "df.columns = ['Description', 'Value']\n",
    "\n",
    "df"
   ]
  },
  {
   "cell_type": "code",
   "execution_count": 17,
   "metadata": {},
   "outputs": [],
   "source": [
    "#create the html table\n",
    "html_table = df.to_html(table_id=\"html_tbl_css\",justify='left',index=False)\n",
    "data = df.to_dict(orient='records') "
   ]
  },
  {
   "cell_type": "code",
   "execution_count": 45,
   "metadata": {},
   "outputs": [
    {
     "data": {
      "text/plain": [
       "[{'Description': 'Equatorial Diameter:', 'Value': '6,792 km'},\n",
       " {'Description': 'Polar Diameter:', 'Value': '6,752 km'},\n",
       " {'Description': 'Mass:', 'Value': '6.39 × 10^23 kg (0.11 Earths)'},\n",
       " {'Description': 'Moons:', 'Value': '2 (Phobos & Deimos)'},\n",
       " {'Description': 'Orbit Distance:', 'Value': '227,943,824 km (1.38 AU)'},\n",
       " {'Description': 'Orbit Period:', 'Value': '687 days (1.9 years)'},\n",
       " {'Description': 'Surface Temperature:', 'Value': '-87 to -5 °C'},\n",
       " {'Description': 'First Record:', 'Value': '2nd millennium BC'},\n",
       " {'Description': 'Recorded By:', 'Value': 'Egyptian astronomers'}]"
      ]
     },
     "execution_count": 45,
     "metadata": {},
     "output_type": "execute_result"
    }
   ],
   "source": [
    "data"
   ]
  },
  {
   "cell_type": "code",
   "execution_count": 18,
   "metadata": {},
   "outputs": [
    {
     "name": "stdout",
     "output_type": "stream",
     "text": [
      "<table border=\"1\" class=\"dataframe table table-striped\">\n",
      "  <thead>\n",
      "    <tr style=\"text-align: right;\">\n",
      "      <th></th>\n",
      "      <th>Description</th>\n",
      "      <th>Value</th>\n",
      "    </tr>\n",
      "  </thead>\n",
      "  <tbody>\n",
      "    <tr>\n",
      "      <th>0</th>\n",
      "      <td>Equatorial Diameter:</td>\n",
      "      <td>6,792 km</td>\n",
      "    </tr>\n",
      "    <tr>\n",
      "      <th>1</th>\n",
      "      <td>Polar Diameter:</td>\n",
      "      <td>6,752 km</td>\n",
      "    </tr>\n",
      "    <tr>\n",
      "      <th>2</th>\n",
      "      <td>Mass:</td>\n",
      "      <td>6.39 × 10^23 kg (0.11 Earths)</td>\n",
      "    </tr>\n",
      "    <tr>\n",
      "      <th>3</th>\n",
      "      <td>Moons:</td>\n",
      "      <td>2 (Phobos &amp; Deimos)</td>\n",
      "    </tr>\n",
      "    <tr>\n",
      "      <th>4</th>\n",
      "      <td>Orbit Distance:</td>\n",
      "      <td>227,943,824 km (1.38 AU)</td>\n",
      "    </tr>\n",
      "    <tr>\n",
      "      <th>5</th>\n",
      "      <td>Orbit Period:</td>\n",
      "      <td>687 days (1.9 years)</td>\n",
      "    </tr>\n",
      "    <tr>\n",
      "      <th>6</th>\n",
      "      <td>Surface Temperature:</td>\n",
      "      <td>-87 to -5 °C</td>\n",
      "    </tr>\n",
      "    <tr>\n",
      "      <th>7</th>\n",
      "      <td>First Record:</td>\n",
      "      <td>2nd millennium BC</td>\n",
      "    </tr>\n",
      "    <tr>\n",
      "      <th>8</th>\n",
      "      <td>Recorded By:</td>\n",
      "      <td>Egyptian astronomers</td>\n",
      "    </tr>\n",
      "  </tbody>\n",
      "</table>\n"
     ]
    }
   ],
   "source": [
    "\n",
    "#Save html to folder and show as html table string\n",
    "mars_df = df.to_html(classes = 'table table-striped')\n",
    "print(mars_df)"
   ]
  },
  {
   "cell_type": "code",
   "execution_count": 19,
   "metadata": {},
   "outputs": [],
   "source": [
    "# Mars Hemispheres\n",
    "\n",
    "# Mars hemisphere name and image to be scraped\n",
    "usgs_url = 'https://astrogeology.usgs.gov'\n",
    "hemispheres_url = 'https://astrogeology.usgs.gov/search/results?q=hemisphere+enhanced&k1=target&v1=Mars'\n",
    "\n",
    "browser.visit(hemispheres_url)\n",
    "\n",
    "hemispheres_html = browser.html\n",
    "\n",
    "hemispheres_soup = bs(hemispheres_html, 'html.parser')"
   ]
  },
  {
   "cell_type": "code",
   "execution_count": 36,
   "metadata": {},
   "outputs": [
    {
     "name": "stdout",
     "output_type": "stream",
     "text": [
      "[{'title': 'Cerberus Hemisphere Enhanced', 'img_url': 'http://astropedia.astrogeology.usgs.gov/download/Mars/Viking/cerberus_enhanced.tif/full.jpg'}, {'title': 'Schiaparelli Hemisphere Enhanced', 'img_url': 'http://astropedia.astrogeology.usgs.gov/download/Mars/Viking/schiaparelli_enhanced.tif/full.jpg'}, {'title': 'Syrtis Major Hemisphere Enhanced', 'img_url': 'http://astropedia.astrogeology.usgs.gov/download/Mars/Viking/syrtis_major_enhanced.tif/full.jpg'}, {'title': 'Valles Marineris Hemisphere Enhanced', 'img_url': 'http://astropedia.astrogeology.usgs.gov/download/Mars/Viking/valles_marineris_enhanced.tif/full.jpg'}]\n"
     ]
    }
   ],
   "source": [
    "# Mars hemispheres products data\n",
    "all_mars_hemispheres = hemispheres_soup.find('div', class_='collapsible results')\n",
    "mars_hemispheres = all_mars_hemispheres.find_all('div', class_='item')\n",
    "\n",
    "hemisphere_image_urls = []\n",
    "\n",
    "# Iterate through each hemisphere data\n",
    "for i in mars_hemispheres:\n",
    "    # Collect Title\n",
    "    hemisphere = i.find('div', class_=\"description\")\n",
    "    title = hemisphere.h3.text\n",
    "    \n",
    "    # Collect image link by browsing to hemisphere page\n",
    "    hemisphere_link = hemisphere.a[\"href\"]    \n",
    "    browser.visit(usgs_url + hemisphere_link)\n",
    "    \n",
    "    image_html = browser.html\n",
    "    image_soup = bs(image_html, 'html.parser')\n",
    "    \n",
    "    image_link = image_soup.find('div', class_='downloads')\n",
    "    image_url = image_link.find('li').a['href']\n",
    "\n",
    "    # Create Dictionary to store title and url info\n",
    "    image_dict = {}\n",
    "    image_dict['title'] = title\n",
    "    image_dict['img_url'] = image_url\n",
    "    \n",
    "    hemisphere_image_urls.append(image_dict)\n",
    "\n",
    "print(hemisphere_image_urls)"
   ]
  },
  {
   "cell_type": "code",
   "execution_count": null,
   "metadata": {},
   "outputs": [],
   "source": []
  }
 ],
 "metadata": {
  "kernelspec": {
   "display_name": "Python 3",
   "language": "python",
   "name": "python3"
  },
  "language_info": {
   "codemirror_mode": {
    "name": "ipython",
    "version": 3
   },
   "file_extension": ".py",
   "mimetype": "text/x-python",
   "name": "python",
   "nbconvert_exporter": "python",
   "pygments_lexer": "ipython3",
   "version": "3.7.4"
  }
 },
 "nbformat": 4,
 "nbformat_minor": 2
}
