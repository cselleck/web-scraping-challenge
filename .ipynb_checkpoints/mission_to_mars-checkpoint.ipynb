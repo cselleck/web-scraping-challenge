{
 "cells": [
  {
   "cell_type": "code",
   "execution_count": 78,
   "metadata": {},
   "outputs": [
    {
     "name": "stdout",
     "output_type": "stream",
     "text": [
      "Collecting twitterscraper\n",
      "  Downloading https://files.pythonhosted.org/packages/7f/0f/7cf31233d4f5616c971f6b1ae22dd73fe9a69430877f5c37a0e7b508a311/twitterscraper-1.4.0.tar.gz\n",
      "Collecting coala-utils~=0.5.0 (from twitterscraper)\n",
      "  Downloading https://files.pythonhosted.org/packages/54/00/74ec750cfc4e830f9d1cfdd4d559f3d2d4ba1b834b78d5266446db3fd1d6/coala_utils-0.5.1-py3-none-any.whl\n",
      "Requirement already satisfied: bs4 in c:\\users\\clayt\\anaconda3\\lib\\site-packages (from twitterscraper) (0.0.1)\n",
      "Requirement already satisfied: lxml in c:\\users\\clayt\\anaconda3\\lib\\site-packages (from twitterscraper) (4.4.1)\n",
      "Requirement already satisfied: requests in c:\\users\\clayt\\anaconda3\\lib\\site-packages (from twitterscraper) (2.22.0)\n",
      "Collecting billiard (from twitterscraper)\n",
      "  Downloading https://files.pythonhosted.org/packages/e8/5e/7591866ff45b370354bd20291cb6f87ddb2eef1f1c88c890a38412037e11/billiard-3.6.3.0-py3-none-any.whl (89kB)\n",
      "Requirement already satisfied: beautifulsoup4 in c:\\users\\clayt\\anaconda3\\lib\\site-packages (from bs4->twitterscraper) (4.8.0)\n",
      "Requirement already satisfied: urllib3!=1.25.0,!=1.25.1,<1.26,>=1.21.1 in c:\\users\\clayt\\anaconda3\\lib\\site-packages (from requests->twitterscraper) (1.24.2)\n",
      "Requirement already satisfied: certifi>=2017.4.17 in c:\\users\\clayt\\anaconda3\\lib\\site-packages (from requests->twitterscraper) (2019.9.11)\n",
      "Requirement already satisfied: chardet<3.1.0,>=3.0.2 in c:\\users\\clayt\\anaconda3\\lib\\site-packages (from requests->twitterscraper) (3.0.4)\n",
      "Requirement already satisfied: idna<2.9,>=2.5 in c:\\users\\clayt\\anaconda3\\lib\\site-packages (from requests->twitterscraper) (2.8)\n",
      "Requirement already satisfied: soupsieve>=1.2 in c:\\users\\clayt\\anaconda3\\lib\\site-packages (from beautifulsoup4->bs4->twitterscraper) (1.9.3)\n",
      "Building wheels for collected packages: twitterscraper\n",
      "  Building wheel for twitterscraper (setup.py): started\n",
      "  Building wheel for twitterscraper (setup.py): finished with status 'done'\n",
      "  Created wheel for twitterscraper: filename=twitterscraper-1.4.0-cp37-none-any.whl size=11351 sha256=f585e32f1e2933c99f1c1de0270ffaf12a7a58b25f55445066a27238e6dac229\n",
      "  Stored in directory: C:\\Users\\clayt\\AppData\\Local\\pip\\Cache\\wheels\\c2\\9c\\8b\\7393e7bdc8abe6ce0d46c2ffae2035a1a2080a97ff0ddbdde6\n",
      "Successfully built twitterscraper\n",
      "Installing collected packages: coala-utils, billiard, twitterscraper\n",
      "Successfully installed billiard-3.6.3.0 coala-utils-0.5.1 twitterscraper-1.4.0\n"
     ]
    }
   ],
   "source": [
    "!pip install twitterscraper\n",
    "\n"
   ]
  },
  {
   "cell_type": "code",
   "execution_count": 86,
   "metadata": {},
   "outputs": [],
   "source": [
    "# Dependencies\n",
    "import twitterscraper\n",
    "import pandas as pd\n",
    "import requests as req\n",
    "import time\n",
    "from datetime import date\n",
    "import datetime as dt\n",
    "from bs4 import BeautifulSoup as bs\n",
    "from splinter import Browser\n",
    "from selenium import webdriver"
   ]
  },
  {
   "cell_type": "code",
   "execution_count": 68,
   "metadata": {},
   "outputs": [
    {
     "name": "stderr",
     "output_type": "stream",
     "text": [
      "which: no chromedriver in (/c/Users/clayt/AppData/Roaming/Python/Python37/site-packages/pywin32_system32:/c/Users/clayt/AppData/Roaming/Python/Python37/site-packages/pywin32_system32:/c/Users/clayt/AppData/Roaming/Python/Python37/site-packages/pywin32_system32:/c/Users/clayt/bin:/mingw64/bin:/usr/local/bin:/usr/bin:/usr/bin:/mingw64/bin:/usr/bin:/c/Users/clayt/bin:/c/windows/system32:/c/windows:/c/windows/System32/Wbem:/c/windows/System32/WindowsPowerShell/v1.0:/c/windows/System32/OpenSSH:/c/Program Files (x86)/NVIDIA Corporation/PhysX/Common:/c/Program Files/NVIDIA Corporation/NVIDIA NvDLISR:/cmd:/c/Users/clayt/Anaconda3:/c/Users/clayt/Anaconda3/Library/mingw-w64/bin:/c/Users/clayt/Anaconda3/Library/usr/bin:/c/Users/clayt/Anaconda3/Library/bin:/c/Users/clayt/Anaconda3/Scripts:/c/Users/clayt/AppData/Local/Microsoft/WindowsApps:/c/Users/clayt/AppData/Local/Programs/Microsoft VS Code/bin:/c/Users/clayt/AppData/Local/atom/bin:/c/Users/clayt/AppData/Local/GitHubDesktop/bin:/usr/bin/vendor_perl:/usr/bin/core_perl)\n"
     ]
    }
   ],
   "source": [
    "#https://splinter.readthedocs.io/en/latest/drivers/chrome.html\n",
    "!which chromedriver"
   ]
  },
  {
   "cell_type": "code",
   "execution_count": 71,
   "metadata": {},
   "outputs": [],
   "source": [
    "\n",
    "executable_path = {'executable_path': 'chromedriver'}\n",
    "browser = Browser('chrome', **executable_path, headless=False)"
   ]
  },
  {
   "cell_type": "code",
   "execution_count": 72,
   "metadata": {},
   "outputs": [
    {
     "name": "stdout",
     "output_type": "stream",
     "text": [
      "How NASA's Perseverance Mars Team Adjusted to Work in the Time of Coronavirus \n",
      "Like much of the rest of the world, the Mars rover team is pushing forward with its mission-critical work while putting the health and safety of their colleagues and community first.\n"
     ]
    }
   ],
   "source": [
    "#URL of page to be scraped\n",
    "news_url = \"https://mars.nasa.gov/news/\"\n",
    "browser.visit(news_url)\n",
    "html = browser.html\n",
    "\n",
    "# Parse HTML with Beautiful Soup\n",
    "soup = bs(html, \"html.parser\")\n",
    "\n",
    "# Extract article title and paragraph text\n",
    "article = soup.find(\"div\", class_='list_text')\n",
    "news_title = article.find(\"div\", class_=\"content_title\").text\n",
    "news_p = article.find(\"div\", class_ =\"article_teaser_body\").text\n",
    "print(news_title)\n",
    "print(news_p)"
   ]
  },
  {
   "cell_type": "code",
   "execution_count": 73,
   "metadata": {},
   "outputs": [
    {
     "name": "stdout",
     "output_type": "stream",
     "text": [
      "https://www.jpl.nasa.gov/spaceimages/images/largesize/PIA17462_hires.jpg\n"
     ]
    }
   ],
   "source": [
    "# Visit url for JPL Featured Space Image\n",
    "image_url = \"https://www.jpl.nasa.gov/spaceimages/?search=&category=Mars\"\n",
    "browser.visit(image_url)\n",
    "\n",
    "# Go to 'FULL IMAGE'\n",
    "browser.click_link_by_partial_text('FULL IMAGE')\n",
    "#browser.links.find_by_partial_text('FULL IMAGE')\n",
    "time.sleep(5)\n",
    "\n",
    "# Go to 'more info'\n",
    "browser.click_link_by_partial_text('more info')\n",
    "#browser.links.find_by_partial_text('more info')\n",
    "\n",
    "# Parse HTML with Beautiful Soup\n",
    "html = browser.html\n",
    "image_soup = bs(html, 'html.parser')\n",
    "\n",
    "# Scrape the URL\n",
    "feat_img_url = image_soup.find('figure', class_='lede').a['href']\n",
    "featured_image_url = f'https://www.jpl.nasa.gov{feat_img_url}'\n",
    "print(featured_image_url)\n"
   ]
  },
  {
   "cell_type": "code",
   "execution_count": 177,
   "metadata": {},
   "outputs": [],
   "source": [
    "from twitterscraper import query_tweets\n",
    "from twitterscraper import query_tweets_from_user as qtfu\n"
   ]
  },
  {
   "cell_type": "code",
   "execution_count": 182,
   "metadata": {
    "scrolled": false
   },
   "outputs": [
    {
     "name": "stderr",
     "output_type": "stream",
     "text": [
      "INFO: Scraping tweets from https://twitter.com/MarsWxReport\n",
      "INFO: Using proxy 5.141.244.52:47949\n",
      "INFO: Scraping tweets from https://twitter.com/i/profiles/show/MarsWxReport/timeline/tweets?include_available_features=1&include_entities=1&max_position=1247702175729569792&reset_error_state=false\n",
      "INFO: Using proxy 5.201.135.133:3128\n",
      "INFO: Scraping tweets from https://twitter.com/i/profiles/show/MarsWxReport/timeline/tweets?include_available_features=1&include_entities=1&max_position=1240094937565233152&reset_error_state=false\n",
      "INFO: Using proxy 80.25.87.49:47478\n",
      "INFO: Scraping tweets from https://twitter.com/i/profiles/show/MarsWxReport/timeline/tweets?include_available_features=1&include_entities=1&max_position=1233026801858904070&reset_error_state=false\n",
      "INFO: Using proxy 201.193.180.14:39675\n",
      "INFO: Scraping tweets from https://twitter.com/i/profiles/show/MarsWxReport/timeline/tweets?include_available_features=1&include_entities=1&max_position=1226565893481734144&reset_error_state=false\n",
      "INFO: Using proxy 46.197.209.217:3128\n",
      "INFO: Scraping tweets from https://twitter.com/i/profiles/show/MarsWxReport/timeline/tweets?include_available_features=1&include_entities=1&max_position=1222034343822086144&reset_error_state=false\n",
      "INFO: Using proxy 80.187.140.26:8080\n",
      "INFO: Scraping tweets from https://twitter.com/i/profiles/show/MarsWxReport/timeline/tweets?include_available_features=1&include_entities=1&max_position=1216054958421954563&reset_error_state=false\n",
      "INFO: Using proxy 186.47.46.30:39975\n",
      "INFO: Scraping tweets from https://twitter.com/i/profiles/show/MarsWxReport/timeline/tweets?include_available_features=1&include_entities=1&max_position=1209813489717522432&reset_error_state=false\n",
      "INFO: Using proxy 50.233.228.147:8080\n",
      "INFO: Scraping tweets from https://twitter.com/i/profiles/show/MarsWxReport/timeline/tweets?include_available_features=1&include_entities=1&max_position=1203794204083859456&reset_error_state=false\n",
      "INFO: Using proxy 110.74.221.18:53348\n",
      "INFO: Scraping tweets from https://twitter.com/i/profiles/show/MarsWxReport/timeline/tweets?include_available_features=1&include_entities=1&max_position=1196788024090284032&reset_error_state=false\n",
      "INFO: Using proxy 177.12.80.50:50556\n",
      "INFO: Scraping tweets from https://twitter.com/i/profiles/show/MarsWxReport/timeline/tweets?include_available_features=1&include_entities=1&max_position=1189887514963779586&reset_error_state=false\n",
      "INFO: Using proxy 144.48.176.38:36555\n",
      "INFO: Scraping tweets from https://twitter.com/i/profiles/show/MarsWxReport/timeline/tweets?include_available_features=1&include_entities=1&max_position=1182304444404383746&reset_error_state=false\n",
      "INFO: Using proxy 43.248.24.158:51166\n",
      "INFO: Scraping tweets from https://twitter.com/i/profiles/show/MarsWxReport/timeline/tweets?include_available_features=1&include_entities=1&max_position=1177626733387931648&reset_error_state=false\n",
      "INFO: Using proxy 201.48.226.249:41846\n",
      "INFO: Scraping tweets from https://twitter.com/i/profiles/show/MarsWxReport/timeline/tweets?include_available_features=1&include_entities=1&max_position=1164580812664332289&reset_error_state=false\n",
      "INFO: Using proxy 101.51.106.70:47390\n",
      "INFO: Scraping tweets from https://twitter.com/i/profiles/show/MarsWxReport/timeline/tweets?include_available_features=1&include_entities=1&max_position=1159091777682497541&reset_error_state=false\n",
      "INFO: Using proxy 202.150.139.46:59979\n",
      "INFO: Scraping tweets from https://twitter.com/i/profiles/show/MarsWxReport/timeline/tweets?include_available_features=1&include_entities=1&max_position=1151938941391474690&reset_error_state=false\n",
      "INFO: Using proxy 67.60.137.219:35979\n",
      "INFO: Scraping tweets from https://twitter.com/i/profiles/show/MarsWxReport/timeline/tweets?include_available_features=1&include_entities=1&max_position=1146809461480312832&reset_error_state=false\n",
      "INFO: Using proxy 36.89.181.155:60165\n",
      "INFO: Scraping tweets from https://twitter.com/i/profiles/show/MarsWxReport/timeline/tweets?include_available_features=1&include_entities=1&max_position=1137311075337220096&reset_error_state=false\n",
      "INFO: Using proxy 94.243.140.162:40960\n",
      "INFO: Scraping tweets from https://twitter.com/i/profiles/show/MarsWxReport/timeline/tweets?include_available_features=1&include_entities=1&max_position=1130516310276886534&reset_error_state=false\n",
      "INFO: Using proxy 36.79.62.222:53281\n",
      "INFO: Scraping tweets from https://twitter.com/i/profiles/show/MarsWxReport/timeline/tweets?include_available_features=1&include_entities=1&max_position=1123770958454640641&reset_error_state=false\n",
      "INFO: Using proxy 197.210.187.46:45753\n",
      "INFO: Scraping tweets from https://twitter.com/i/profiles/show/MarsWxReport/timeline/tweets?include_available_features=1&include_entities=1&max_position=1117133282792095744&reset_error_state=false\n",
      "INFO: Using proxy 46.229.67.198:47437\n",
      "INFO: Scraping tweets from https://twitter.com/i/profiles/show/MarsWxReport/timeline/tweets?include_available_features=1&include_entities=1&max_position=1110949356402851840&reset_error_state=false\n",
      "INFO: Using proxy 183.88.196.150:8080\n",
      "INFO: Scraping tweets from https://twitter.com/i/profiles/show/MarsWxReport/timeline/tweets?include_available_features=1&include_entities=1&max_position=1101842451457814529&reset_error_state=false\n",
      "INFO: Using proxy 195.239.115.106:44413\n",
      "INFO: Scraping tweets from https://twitter.com/i/profiles/show/MarsWxReport/timeline/tweets?include_available_features=1&include_entities=1&max_position=1098085304727162881&reset_error_state=false\n",
      "INFO: Using proxy 110.36.232.242:49850\n",
      "INFO: Scraping tweets from https://twitter.com/i/profiles/show/MarsWxReport/timeline/tweets?include_available_features=1&include_entities=1&max_position=1092224911836364802&reset_error_state=false\n",
      "INFO: Using proxy 203.153.20.64:53281\n",
      "INFO: Scraping tweets from https://twitter.com/i/profiles/show/MarsWxReport/timeline/tweets?include_available_features=1&include_entities=1&max_position=1086315846979457024&reset_error_state=false\n",
      "INFO: Using proxy 85.117.61.186:49929\n",
      "INFO: Scraping tweets from https://twitter.com/i/profiles/show/MarsWxReport/timeline/tweets?include_available_features=1&include_entities=1&max_position=1079008109593538566&reset_error_state=false\n",
      "INFO: Using proxy 37.123.222.124:8080\n",
      "INFO: Scraping tweets from https://twitter.com/i/profiles/show/MarsWxReport/timeline/tweets?include_available_features=1&include_entities=1&max_position=1071227130258825216&reset_error_state=false\n",
      "INFO: Using proxy 134.249.165.49:53281\n",
      "INFO: Scraping tweets from https://twitter.com/i/profiles/show/MarsWxReport/timeline/tweets?include_available_features=1&include_entities=1&max_position=1066153701008687109&reset_error_state=false\n",
      "INFO: Using proxy 69.65.65.178:34548\n",
      "INFO: Scraping tweets from https://twitter.com/i/profiles/show/MarsWxReport/timeline/tweets?include_available_features=1&include_entities=1&max_position=1059630721202040832&reset_error_state=false\n",
      "INFO: Using proxy 191.103.219.225:48612\n",
      "INFO: Scraping tweets from https://twitter.com/i/profiles/show/MarsWxReport/timeline/tweets?include_available_features=1&include_entities=1&max_position=1044907402091483136&reset_error_state=false\n",
      "INFO: Using proxy 103.49.30.37:3127\n",
      "INFO: Scraping tweets from https://twitter.com/i/profiles/show/MarsWxReport/timeline/tweets?include_available_features=1&include_entities=1&max_position=1036770083442438144&reset_error_state=false\n",
      "INFO: Using proxy 81.190.208.52:38264\n",
      "INFO: Scraping tweets from https://twitter.com/i/profiles/show/MarsWxReport/timeline/tweets?include_available_features=1&include_entities=1&max_position=1030265537400635392&reset_error_state=false\n",
      "INFO: Using proxy 159.138.20.247:443\n",
      "INFO: Scraping tweets from https://twitter.com/i/profiles/show/MarsWxReport/timeline/tweets?include_available_features=1&include_entities=1&max_position=1030265516282335232&reset_error_state=false\n",
      "INFO: Using proxy 91.211.107.204:41258\n",
      "INFO: Scraping tweets from https://twitter.com/i/profiles/show/MarsWxReport/timeline/tweets?include_available_features=1&include_entities=1&max_position=1016476364264951808&reset_error_state=false\n",
      "INFO: Using proxy 47.75.90.57:80\n",
      "INFO: Scraping tweets from https://twitter.com/i/profiles/show/MarsWxReport/timeline/tweets?include_available_features=1&include_entities=1&max_position=1009560254017867777&reset_error_state=false\n"
     ]
    },
    {
     "name": "stderr",
     "output_type": "stream",
     "text": [
      "INFO: Using proxy 190.211.81.214:3128\n",
      "INFO: Scraping tweets from https://twitter.com/i/profiles/show/MarsWxReport/timeline/tweets?include_available_features=1&include_entities=1&max_position=1005278203794087938&reset_error_state=false\n",
      "INFO: Using proxy 92.50.155.218:8080\n",
      "INFO: Scraping tweets from https://twitter.com/i/profiles/show/MarsWxReport/timeline/tweets?include_available_features=1&include_entities=1&max_position=996178220507680768&reset_error_state=false\n",
      "INFO: Using proxy 103.216.82.18:6666\n",
      "INFO: Scraping tweets from https://twitter.com/i/profiles/show/MarsWxReport/timeline/tweets?include_available_features=1&include_entities=1&max_position=982045230638739457&reset_error_state=false\n",
      "INFO: Using proxy 145.239.81.69:8080\n",
      "INFO: Scraping tweets from https://twitter.com/i/profiles/show/MarsWxReport/timeline/tweets?include_available_features=1&include_entities=1&max_position=969769344749178880&reset_error_state=false\n",
      "INFO: Using proxy 5.189.131.94:80\n",
      "INFO: Scraping tweets from https://twitter.com/i/profiles/show/MarsWxReport/timeline/tweets?include_available_features=1&include_entities=1&max_position=959622484348809217&reset_error_state=false\n",
      "INFO: Using proxy 5.22.154.106:34402\n",
      "INFO: Scraping tweets from https://twitter.com/i/profiles/show/MarsWxReport/timeline/tweets?include_available_features=1&include_entities=1&max_position=949113234170241025&reset_error_state=false\n",
      "INFO: Using proxy 203.177.127.197:8080\n",
      "INFO: Twitter returned : 'has_more_items' \n",
      "INFO: Got 785 tweets from username MarsWxReport\n"
     ]
    }
   ],
   "source": [
    "end_date=dt.datetime.today()\n",
    "begin_date=end_date - dt.timedelta(days=1)\n",
    "user=\"MarsWxReport\"\n",
    "lang=\"english\"\n",
    "\n",
    "#tweets=query_tweets(\"MarsWxReport\")\n",
    "tweets = qtfu(user='MarsWxReport')\n",
    "tweets_df=pd.DataFrame(t.__dict__ for t in tweets)\n",
    "\n",
    "\n"
   ]
  },
  {
   "cell_type": "code",
   "execution_count": 179,
   "metadata": {
    "scrolled": true
   },
   "outputs": [
    {
     "data": {
      "text/html": [
       "<div>\n",
       "<style scoped>\n",
       "    .dataframe tbody tr th:only-of-type {\n",
       "        vertical-align: middle;\n",
       "    }\n",
       "\n",
       "    .dataframe tbody tr th {\n",
       "        vertical-align: top;\n",
       "    }\n",
       "\n",
       "    .dataframe thead th {\n",
       "        text-align: right;\n",
       "    }\n",
       "</style>\n",
       "<table border=\"1\" class=\"dataframe\">\n",
       "  <thead>\n",
       "    <tr style=\"text-align: right;\">\n",
       "      <th></th>\n",
       "      <th>screen_name</th>\n",
       "      <th>username</th>\n",
       "      <th>user_id</th>\n",
       "      <th>tweet_id</th>\n",
       "      <th>tweet_url</th>\n",
       "      <th>timestamp</th>\n",
       "      <th>timestamp_epochs</th>\n",
       "      <th>text</th>\n",
       "      <th>text_html</th>\n",
       "      <th>links</th>\n",
       "      <th>...</th>\n",
       "      <th>has_media</th>\n",
       "      <th>img_urls</th>\n",
       "      <th>video_url</th>\n",
       "      <th>likes</th>\n",
       "      <th>retweets</th>\n",
       "      <th>replies</th>\n",
       "      <th>is_replied</th>\n",
       "      <th>is_reply_to</th>\n",
       "      <th>parent_tweet_id</th>\n",
       "      <th>reply_to_users</th>\n",
       "    </tr>\n",
       "  </thead>\n",
       "  <tbody>\n",
       "    <tr>\n",
       "      <td>0</td>\n",
       "      <td>MarsWxReport</td>\n",
       "      <td>Mars Weather</td>\n",
       "      <td>786939553</td>\n",
       "      <td>1253909405051093003</td>\n",
       "      <td>/MarsWxReport/status/1253909405051093003</td>\n",
       "      <td>2020-04-25 04:51:13</td>\n",
       "      <td>1587790273</td>\n",
       "      <td>InSight sol 501 (2020-04-24) low -93.5ºC (-136...</td>\n",
       "      <td>&lt;p class=\"TweetTextSize TweetTextSize--normal ...</td>\n",
       "      <td>[]</td>\n",
       "      <td>...</td>\n",
       "      <td>True</td>\n",
       "      <td>[https://pbs.twimg.com/media/EWbH9PCXsAE9hwy.jpg]</td>\n",
       "      <td></td>\n",
       "      <td>5</td>\n",
       "      <td>0</td>\n",
       "      <td>0</td>\n",
       "      <td>False</td>\n",
       "      <td>False</td>\n",
       "      <td></td>\n",
       "      <td>[]</td>\n",
       "    </tr>\n",
       "    <tr>\n",
       "      <td>1</td>\n",
       "      <td>MarsWxReport</td>\n",
       "      <td>Mars Weather</td>\n",
       "      <td>786939553</td>\n",
       "      <td>1253728218353410048</td>\n",
       "      <td>/MarsWxReport/status/1253728218353410048</td>\n",
       "      <td>2020-04-24 16:51:15</td>\n",
       "      <td>1587747075</td>\n",
       "      <td>InSight sol 500 (2020-04-22) low -93.8ºC (-136...</td>\n",
       "      <td>&lt;p class=\"TweetTextSize TweetTextSize--normal ...</td>\n",
       "      <td>[]</td>\n",
       "      <td>...</td>\n",
       "      <td>True</td>\n",
       "      <td>[https://pbs.twimg.com/media/EWYjKxDXgAETDtC.jpg]</td>\n",
       "      <td></td>\n",
       "      <td>19</td>\n",
       "      <td>8</td>\n",
       "      <td>0</td>\n",
       "      <td>False</td>\n",
       "      <td>False</td>\n",
       "      <td></td>\n",
       "      <td>[]</td>\n",
       "    </tr>\n",
       "    <tr>\n",
       "      <td>2</td>\n",
       "      <td>MarsWxReport</td>\n",
       "      <td>Mars Weather</td>\n",
       "      <td>786939553</td>\n",
       "      <td>1253184636106223616</td>\n",
       "      <td>/MarsWxReport/status/1253184636106223616</td>\n",
       "      <td>2020-04-23 04:51:14</td>\n",
       "      <td>1587617474</td>\n",
       "      <td>InSight sol 499 (2020-04-22) low -94.4ºC (-137...</td>\n",
       "      <td>&lt;p class=\"TweetTextSize TweetTextSize--normal ...</td>\n",
       "      <td>[]</td>\n",
       "      <td>...</td>\n",
       "      <td>True</td>\n",
       "      <td>[https://pbs.twimg.com/media/EWQ0yG5WoAAD1oG.jpg]</td>\n",
       "      <td></td>\n",
       "      <td>19</td>\n",
       "      <td>4</td>\n",
       "      <td>1</td>\n",
       "      <td>True</td>\n",
       "      <td>False</td>\n",
       "      <td></td>\n",
       "      <td>[]</td>\n",
       "    </tr>\n",
       "    <tr>\n",
       "      <td>3</td>\n",
       "      <td>MarsWxReport</td>\n",
       "      <td>Mars Weather</td>\n",
       "      <td>786939553</td>\n",
       "      <td>1252822244914425858</td>\n",
       "      <td>/MarsWxReport/status/1252822244914425858</td>\n",
       "      <td>2020-04-22 04:51:14</td>\n",
       "      <td>1587531074</td>\n",
       "      <td>InSight sol 498 (2020-04-21) low -94.3ºC (-137...</td>\n",
       "      <td>&lt;p class=\"TweetTextSize TweetTextSize--normal ...</td>\n",
       "      <td>[]</td>\n",
       "      <td>...</td>\n",
       "      <td>True</td>\n",
       "      <td>[https://pbs.twimg.com/media/EWLrMK_VAAEldWq.jpg]</td>\n",
       "      <td></td>\n",
       "      <td>27</td>\n",
       "      <td>5</td>\n",
       "      <td>0</td>\n",
       "      <td>False</td>\n",
       "      <td>False</td>\n",
       "      <td></td>\n",
       "      <td>[]</td>\n",
       "    </tr>\n",
       "    <tr>\n",
       "      <td>4</td>\n",
       "      <td>MarsWxReport</td>\n",
       "      <td>Mars Weather</td>\n",
       "      <td>786939553</td>\n",
       "      <td>1252399466918801409</td>\n",
       "      <td>/MarsWxReport/status/1252399466918801409</td>\n",
       "      <td>2020-04-21 00:51:16</td>\n",
       "      <td>1587430276</td>\n",
       "      <td>InSight sol 497 (2020-04-20) low -94.3ºC (-137...</td>\n",
       "      <td>&lt;p class=\"TweetTextSize TweetTextSize--normal ...</td>\n",
       "      <td>[]</td>\n",
       "      <td>...</td>\n",
       "      <td>True</td>\n",
       "      <td>[https://pbs.twimg.com/media/EWFqrQcU8AEAhYZ.jpg]</td>\n",
       "      <td></td>\n",
       "      <td>13</td>\n",
       "      <td>4</td>\n",
       "      <td>0</td>\n",
       "      <td>False</td>\n",
       "      <td>False</td>\n",
       "      <td></td>\n",
       "      <td>[]</td>\n",
       "    </tr>\n",
       "  </tbody>\n",
       "</table>\n",
       "<p>5 rows × 21 columns</p>\n",
       "</div>"
      ],
      "text/plain": [
       "    screen_name      username    user_id             tweet_id  \\\n",
       "0  MarsWxReport  Mars Weather  786939553  1253909405051093003   \n",
       "1  MarsWxReport  Mars Weather  786939553  1253728218353410048   \n",
       "2  MarsWxReport  Mars Weather  786939553  1253184636106223616   \n",
       "3  MarsWxReport  Mars Weather  786939553  1252822244914425858   \n",
       "4  MarsWxReport  Mars Weather  786939553  1252399466918801409   \n",
       "\n",
       "                                  tweet_url           timestamp  \\\n",
       "0  /MarsWxReport/status/1253909405051093003 2020-04-25 04:51:13   \n",
       "1  /MarsWxReport/status/1253728218353410048 2020-04-24 16:51:15   \n",
       "2  /MarsWxReport/status/1253184636106223616 2020-04-23 04:51:14   \n",
       "3  /MarsWxReport/status/1252822244914425858 2020-04-22 04:51:14   \n",
       "4  /MarsWxReport/status/1252399466918801409 2020-04-21 00:51:16   \n",
       "\n",
       "   timestamp_epochs                                               text  \\\n",
       "0        1587790273  InSight sol 501 (2020-04-24) low -93.5ºC (-136...   \n",
       "1        1587747075  InSight sol 500 (2020-04-22) low -93.8ºC (-136...   \n",
       "2        1587617474  InSight sol 499 (2020-04-22) low -94.4ºC (-137...   \n",
       "3        1587531074  InSight sol 498 (2020-04-21) low -94.3ºC (-137...   \n",
       "4        1587430276  InSight sol 497 (2020-04-20) low -94.3ºC (-137...   \n",
       "\n",
       "                                           text_html links  ... has_media  \\\n",
       "0  <p class=\"TweetTextSize TweetTextSize--normal ...    []  ...      True   \n",
       "1  <p class=\"TweetTextSize TweetTextSize--normal ...    []  ...      True   \n",
       "2  <p class=\"TweetTextSize TweetTextSize--normal ...    []  ...      True   \n",
       "3  <p class=\"TweetTextSize TweetTextSize--normal ...    []  ...      True   \n",
       "4  <p class=\"TweetTextSize TweetTextSize--normal ...    []  ...      True   \n",
       "\n",
       "                                            img_urls video_url likes  \\\n",
       "0  [https://pbs.twimg.com/media/EWbH9PCXsAE9hwy.jpg]               5   \n",
       "1  [https://pbs.twimg.com/media/EWYjKxDXgAETDtC.jpg]              19   \n",
       "2  [https://pbs.twimg.com/media/EWQ0yG5WoAAD1oG.jpg]              19   \n",
       "3  [https://pbs.twimg.com/media/EWLrMK_VAAEldWq.jpg]              27   \n",
       "4  [https://pbs.twimg.com/media/EWFqrQcU8AEAhYZ.jpg]              13   \n",
       "\n",
       "   retweets  replies  is_replied  is_reply_to  parent_tweet_id reply_to_users  \n",
       "0         0        0       False        False                              []  \n",
       "1         8        0       False        False                              []  \n",
       "2         4        1        True        False                              []  \n",
       "3         5        0       False        False                              []  \n",
       "4         4        0       False        False                              []  \n",
       "\n",
       "[5 rows x 21 columns]"
      ]
     },
     "execution_count": 179,
     "metadata": {},
     "output_type": "execute_result"
    }
   ],
   "source": [
    "tweets_df.head()\n"
   ]
  },
  {
   "cell_type": "code",
   "execution_count": 184,
   "metadata": {},
   "outputs": [],
   "source": [
    "mars_weather=tweets_df.loc[0,'text']"
   ]
  },
  {
   "cell_type": "code",
   "execution_count": 185,
   "metadata": {},
   "outputs": [
    {
     "data": {
      "text/plain": [
       "'InSight sol 501 (2020-04-24) low -93.5ºC (-136.2ºF) high -4.3ºC (24.3ºF)\\nwinds from the SW at 5.0 m/s (11.3 mph) gusting to 15.8 m/s (35.3 mph)\\npressure at 6.70 hPapic.twitter.com/Xdbw8T0T0E'"
      ]
     },
     "execution_count": 185,
     "metadata": {},
     "output_type": "execute_result"
    }
   ],
   "source": [
    "mars_weather\n"
   ]
  },
  {
   "cell_type": "code",
   "execution_count": 161,
   "metadata": {},
   "outputs": [],
   "source": [
    "# Visit Twitter url for latest Mars Weather\n",
    "tweet_url = \"https://twitter.com/marswxreport?lang=en\"\n",
    "browser.visit(tweet_url)\n",
    "html = browser.html\n",
    "\n",
    "# Parse HTML with Beautiful Soup\n",
    "soup = bs(html, 'html.parser')\n",
    "\n",
    "# Extract latest tweet\n",
    "tweet_container = soup.find_all('p', class_=\"TweetTextSize js-tweet-text tweet-text\")\n",
    "\n",
    "# Loop through latest tweets and find the tweet that has weather information\n",
    "for tweet in tweet_container: \n",
    "    mars_weather = tweet.find('p').text\n",
    "    if 'sol' and 'pressure' in mars_weather:\n",
    "        print(mars_weather)\n",
    "        break\n",
    "    else: \n",
    "        print(\"nothing found\")\n",
    "        pass"
   ]
  },
  {
   "cell_type": "code",
   "execution_count": 163,
   "metadata": {},
   "outputs": [
    {
     "data": {
      "text/plain": [
       "[]"
      ]
     },
     "execution_count": 163,
     "metadata": {},
     "output_type": "execute_result"
    }
   ],
   "source": [
    "tweet_container\n"
   ]
  },
  {
   "cell_type": "markdown",
   "metadata": {},
   "source": []
  },
  {
   "cell_type": "code",
   "execution_count": 156,
   "metadata": {},
   "outputs": [],
   "source": [
    "soup"
   ]
  },
  {
   "cell_type": "code",
   "execution_count": 60,
   "metadata": {},
   "outputs": [],
   "source": [
    "# Extract latest tweet\n",
    "#tweet_container = weather_soup.find_all('div', class_=\"css-901oao r-hkyrab r-1qd0xha r-1blvdjr r-16dba41 r-ad9z0x r-bcqeeo r-bnwqim r-qvutc0\")\n",
    "\n",
    "    # Loop through latest tweets and find the tweet that has weather information\n",
    "#for tweet in tweet_container: \n",
    "#        mars_weather = tweet.find('div').text\n",
    "#        if 'sol' and 'pressure' in mars_weather:\n",
    "#            print(mars_weather)\n",
    "#            break\n",
    "#        else: \n",
    "#            pass"
   ]
  },
  {
   "cell_type": "code",
   "execution_count": 155,
   "metadata": {},
   "outputs": [
    {
     "data": {
      "text/plain": [
       "[]"
      ]
     },
     "execution_count": 155,
     "metadata": {},
     "output_type": "execute_result"
    }
   ],
   "source": [
    "tweet_container\n"
   ]
  },
  {
   "cell_type": "code",
   "execution_count": null,
   "metadata": {},
   "outputs": [],
   "source": []
  },
  {
   "cell_type": "markdown",
   "metadata": {},
   "source": [
    "soup\n"
   ]
  },
  {
   "cell_type": "code",
   "execution_count": 15,
   "metadata": {},
   "outputs": [
    {
     "data": {
      "text/plain": [
       "[                      0                              1\n",
       " 0  Equatorial Diameter:                       6,792 km\n",
       " 1       Polar Diameter:                       6,752 km\n",
       " 2                 Mass:  6.39 × 10^23 kg (0.11 Earths)\n",
       " 3                Moons:            2 (Phobos & Deimos)\n",
       " 4       Orbit Distance:       227,943,824 km (1.38 AU)\n",
       " 5         Orbit Period:           687 days (1.9 years)\n",
       " 6  Surface Temperature:                   -87 to -5 °C\n",
       " 7         First Record:              2nd millennium BC\n",
       " 8          Recorded By:           Egyptian astronomers,\n",
       "                       0                              1\n",
       " 0             Diameter:                       3,475 km\n",
       " 1                 Mass:  7.35 × 10^22 kg (0.01 Earths)\n",
       " 2               Orbits:                      The Earth\n",
       " 3       Orbit Distance:                     384,400 km\n",
       " 4         Orbit Period:                      27.3 days\n",
       " 5  Surface Temperature:                 -233 to 123 °C,\n",
       "   Mars - Earth Comparison             Mars            Earth\n",
       " 0               Diameter:         6,779 km        12,742 km\n",
       " 1                   Mass:  6.39 × 10^23 kg  5.97 × 10^24 kg\n",
       " 2                  Moons:                2                1\n",
       " 3      Distance from Sun:   227,943,824 km   149,598,262 km\n",
       " 4         Length of Year:   687 Earth days      365.24 days\n",
       " 5            Temperature:    -153 to 20 °C      -88 to 58°C,\n",
       "                       0                              1\n",
       " 0  Equatorial Diameter:                       6,792 km\n",
       " 1       Polar Diameter:                       6,752 km\n",
       " 2                 Mass:  6.39 × 10^23 kg (0.11 Earths)\n",
       " 3                Moons:            2 (Phobos & Deimos)\n",
       " 4       Orbit Distance:       227,943,824 km (1.38 AU)\n",
       " 5         Orbit Period:           687 days (1.9 years)\n",
       " 6  Surface Temperature:                   -87 to -5 °C\n",
       " 7         First Record:              2nd millennium BC\n",
       " 8          Recorded By:           Egyptian astronomers]"
      ]
     },
     "execution_count": 15,
     "metadata": {},
     "output_type": "execute_result"
    }
   ],
   "source": [
    "\n",
    "#Mars Facts\n",
    "#url to use\n",
    "url = 'https://space-facts.com/mars/'\n",
    "\n",
    "tables = pd.read_html(url)\n",
    "tables\n"
   ]
  },
  {
   "cell_type": "code",
   "execution_count": 44,
   "metadata": {
    "scrolled": true
   },
   "outputs": [
    {
     "data": {
      "text/html": [
       "<div>\n",
       "<style scoped>\n",
       "    .dataframe tbody tr th:only-of-type {\n",
       "        vertical-align: middle;\n",
       "    }\n",
       "\n",
       "    .dataframe tbody tr th {\n",
       "        vertical-align: top;\n",
       "    }\n",
       "\n",
       "    .dataframe thead th {\n",
       "        text-align: right;\n",
       "    }\n",
       "</style>\n",
       "<table border=\"1\" class=\"dataframe\">\n",
       "  <thead>\n",
       "    <tr style=\"text-align: right;\">\n",
       "      <th></th>\n",
       "      <th>Description</th>\n",
       "      <th>Value</th>\n",
       "    </tr>\n",
       "  </thead>\n",
       "  <tbody>\n",
       "    <tr>\n",
       "      <td>0</td>\n",
       "      <td>Equatorial Diameter:</td>\n",
       "      <td>6,792 km</td>\n",
       "    </tr>\n",
       "    <tr>\n",
       "      <td>1</td>\n",
       "      <td>Polar Diameter:</td>\n",
       "      <td>6,752 km</td>\n",
       "    </tr>\n",
       "    <tr>\n",
       "      <td>2</td>\n",
       "      <td>Mass:</td>\n",
       "      <td>6.39 × 10^23 kg (0.11 Earths)</td>\n",
       "    </tr>\n",
       "    <tr>\n",
       "      <td>3</td>\n",
       "      <td>Moons:</td>\n",
       "      <td>2 (Phobos &amp; Deimos)</td>\n",
       "    </tr>\n",
       "    <tr>\n",
       "      <td>4</td>\n",
       "      <td>Orbit Distance:</td>\n",
       "      <td>227,943,824 km (1.38 AU)</td>\n",
       "    </tr>\n",
       "    <tr>\n",
       "      <td>5</td>\n",
       "      <td>Orbit Period:</td>\n",
       "      <td>687 days (1.9 years)</td>\n",
       "    </tr>\n",
       "    <tr>\n",
       "      <td>6</td>\n",
       "      <td>Surface Temperature:</td>\n",
       "      <td>-87 to -5 °C</td>\n",
       "    </tr>\n",
       "    <tr>\n",
       "      <td>7</td>\n",
       "      <td>First Record:</td>\n",
       "      <td>2nd millennium BC</td>\n",
       "    </tr>\n",
       "    <tr>\n",
       "      <td>8</td>\n",
       "      <td>Recorded By:</td>\n",
       "      <td>Egyptian astronomers</td>\n",
       "    </tr>\n",
       "  </tbody>\n",
       "</table>\n",
       "</div>"
      ],
      "text/plain": [
       "            Description                          Value\n",
       "0  Equatorial Diameter:                       6,792 km\n",
       "1       Polar Diameter:                       6,752 km\n",
       "2                 Mass:  6.39 × 10^23 kg (0.11 Earths)\n",
       "3                Moons:            2 (Phobos & Deimos)\n",
       "4       Orbit Distance:       227,943,824 km (1.38 AU)\n",
       "5         Orbit Period:           687 days (1.9 years)\n",
       "6  Surface Temperature:                   -87 to -5 °C\n",
       "7         First Record:              2nd millennium BC\n",
       "8          Recorded By:           Egyptian astronomers"
      ]
     },
     "execution_count": 44,
     "metadata": {},
     "output_type": "execute_result"
    }
   ],
   "source": [
    "#Find Mars Facts DataFrame in the lists of DataFrames\n",
    "df = tables[0]\n",
    "#Assign the columns\n",
    "df.columns = ['Description', 'Value']\n",
    "\n",
    "df"
   ]
  },
  {
   "cell_type": "code",
   "execution_count": 17,
   "metadata": {},
   "outputs": [],
   "source": [
    "#create the html table\n",
    "html_table = df.to_html(table_id=\"html_tbl_css\",justify='left',index=False)\n",
    "data = df.to_dict(orient='records') "
   ]
  },
  {
   "cell_type": "code",
   "execution_count": 45,
   "metadata": {},
   "outputs": [
    {
     "data": {
      "text/plain": [
       "[{'Description': 'Equatorial Diameter:', 'Value': '6,792 km'},\n",
       " {'Description': 'Polar Diameter:', 'Value': '6,752 km'},\n",
       " {'Description': 'Mass:', 'Value': '6.39 × 10^23 kg (0.11 Earths)'},\n",
       " {'Description': 'Moons:', 'Value': '2 (Phobos & Deimos)'},\n",
       " {'Description': 'Orbit Distance:', 'Value': '227,943,824 km (1.38 AU)'},\n",
       " {'Description': 'Orbit Period:', 'Value': '687 days (1.9 years)'},\n",
       " {'Description': 'Surface Temperature:', 'Value': '-87 to -5 °C'},\n",
       " {'Description': 'First Record:', 'Value': '2nd millennium BC'},\n",
       " {'Description': 'Recorded By:', 'Value': 'Egyptian astronomers'}]"
      ]
     },
     "execution_count": 45,
     "metadata": {},
     "output_type": "execute_result"
    }
   ],
   "source": [
    "data"
   ]
  },
  {
   "cell_type": "code",
   "execution_count": 18,
   "metadata": {},
   "outputs": [
    {
     "name": "stdout",
     "output_type": "stream",
     "text": [
      "<table border=\"1\" class=\"dataframe table table-striped\">\n",
      "  <thead>\n",
      "    <tr style=\"text-align: right;\">\n",
      "      <th></th>\n",
      "      <th>Description</th>\n",
      "      <th>Value</th>\n",
      "    </tr>\n",
      "  </thead>\n",
      "  <tbody>\n",
      "    <tr>\n",
      "      <th>0</th>\n",
      "      <td>Equatorial Diameter:</td>\n",
      "      <td>6,792 km</td>\n",
      "    </tr>\n",
      "    <tr>\n",
      "      <th>1</th>\n",
      "      <td>Polar Diameter:</td>\n",
      "      <td>6,752 km</td>\n",
      "    </tr>\n",
      "    <tr>\n",
      "      <th>2</th>\n",
      "      <td>Mass:</td>\n",
      "      <td>6.39 × 10^23 kg (0.11 Earths)</td>\n",
      "    </tr>\n",
      "    <tr>\n",
      "      <th>3</th>\n",
      "      <td>Moons:</td>\n",
      "      <td>2 (Phobos &amp; Deimos)</td>\n",
      "    </tr>\n",
      "    <tr>\n",
      "      <th>4</th>\n",
      "      <td>Orbit Distance:</td>\n",
      "      <td>227,943,824 km (1.38 AU)</td>\n",
      "    </tr>\n",
      "    <tr>\n",
      "      <th>5</th>\n",
      "      <td>Orbit Period:</td>\n",
      "      <td>687 days (1.9 years)</td>\n",
      "    </tr>\n",
      "    <tr>\n",
      "      <th>6</th>\n",
      "      <td>Surface Temperature:</td>\n",
      "      <td>-87 to -5 °C</td>\n",
      "    </tr>\n",
      "    <tr>\n",
      "      <th>7</th>\n",
      "      <td>First Record:</td>\n",
      "      <td>2nd millennium BC</td>\n",
      "    </tr>\n",
      "    <tr>\n",
      "      <th>8</th>\n",
      "      <td>Recorded By:</td>\n",
      "      <td>Egyptian astronomers</td>\n",
      "    </tr>\n",
      "  </tbody>\n",
      "</table>\n"
     ]
    }
   ],
   "source": [
    "\n",
    "#Save html to folder and show as html table string\n",
    "mars_df = df.to_html(classes = 'table table-striped')\n",
    "print(mars_df)"
   ]
  },
  {
   "cell_type": "code",
   "execution_count": 19,
   "metadata": {},
   "outputs": [],
   "source": [
    "# Mars Hemispheres\n",
    "\n",
    "# Mars hemisphere name and image to be scraped\n",
    "usgs_url = 'https://astrogeology.usgs.gov'\n",
    "hemispheres_url = 'https://astrogeology.usgs.gov/search/results?q=hemisphere+enhanced&k1=target&v1=Mars'\n",
    "\n",
    "browser.visit(hemispheres_url)\n",
    "\n",
    "hemispheres_html = browser.html\n",
    "\n",
    "hemispheres_soup = bs(hemispheres_html, 'html.parser')"
   ]
  },
  {
   "cell_type": "code",
   "execution_count": 36,
   "metadata": {},
   "outputs": [
    {
     "name": "stdout",
     "output_type": "stream",
     "text": [
      "[{'title': 'Cerberus Hemisphere Enhanced', 'img_url': 'http://astropedia.astrogeology.usgs.gov/download/Mars/Viking/cerberus_enhanced.tif/full.jpg'}, {'title': 'Schiaparelli Hemisphere Enhanced', 'img_url': 'http://astropedia.astrogeology.usgs.gov/download/Mars/Viking/schiaparelli_enhanced.tif/full.jpg'}, {'title': 'Syrtis Major Hemisphere Enhanced', 'img_url': 'http://astropedia.astrogeology.usgs.gov/download/Mars/Viking/syrtis_major_enhanced.tif/full.jpg'}, {'title': 'Valles Marineris Hemisphere Enhanced', 'img_url': 'http://astropedia.astrogeology.usgs.gov/download/Mars/Viking/valles_marineris_enhanced.tif/full.jpg'}]\n"
     ]
    }
   ],
   "source": [
    "# Mars hemispheres products data\n",
    "all_mars_hemispheres = hemispheres_soup.find('div', class_='collapsible results')\n",
    "mars_hemispheres = all_mars_hemispheres.find_all('div', class_='item')\n",
    "\n",
    "hemisphere_image_urls = []\n",
    "\n",
    "# Iterate through each hemisphere data\n",
    "for i in mars_hemispheres:\n",
    "    # Collect Title\n",
    "    hemisphere = i.find('div', class_=\"description\")\n",
    "    title = hemisphere.h3.text\n",
    "    \n",
    "    # Collect image link by browsing to hemisphere page\n",
    "    hemisphere_link = hemisphere.a[\"href\"]    \n",
    "    browser.visit(usgs_url + hemisphere_link)\n",
    "    \n",
    "    image_html = browser.html\n",
    "    image_soup = bs(image_html, 'html.parser')\n",
    "    \n",
    "    image_link = image_soup.find('div', class_='downloads')\n",
    "    image_url = image_link.find('li').a['href']\n",
    "\n",
    "    # Create Dictionary to store title and url info\n",
    "    image_dict = {}\n",
    "    image_dict['title'] = title\n",
    "    image_dict['img_url'] = image_url\n",
    "    \n",
    "    hemisphere_image_urls.append(image_dict)\n",
    "\n",
    "print(hemisphere_image_urls)"
   ]
  },
  {
   "cell_type": "code",
   "execution_count": null,
   "metadata": {},
   "outputs": [],
   "source": []
  }
 ],
 "metadata": {
  "kernelspec": {
   "display_name": "Python 3",
   "language": "python",
   "name": "python3"
  },
  "language_info": {
   "codemirror_mode": {
    "name": "ipython",
    "version": 3
   },
   "file_extension": ".py",
   "mimetype": "text/x-python",
   "name": "python",
   "nbconvert_exporter": "python",
   "pygments_lexer": "ipython3",
   "version": "3.7.4"
  }
 },
 "nbformat": 4,
 "nbformat_minor": 2
}
